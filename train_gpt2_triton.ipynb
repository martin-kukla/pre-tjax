{
 "cells": [
  {
   "cell_type": "code",
   "execution_count": 1,
   "id": "af55f10d",
   "metadata": {},
   "outputs": [
    {
     "name": "stderr",
     "output_type": "stream",
     "text": [
      "/usr/local/lib/python3.10/dist-packages/tqdm/auto.py:21: TqdmWarning: IProgress not found. Please update jupyter and ipywidgets. See https://ipywidgets.readthedocs.io/en/stable/user_install.html\n",
      "  from .autonotebook import tqdm as notebook_tqdm\n"
     ]
    },
    {
     "name": "stdout",
     "output_type": "stream",
     "text": [
      "Loading FineWeb-Edu dataset\n",
      "Loading tokenizer bpe_tokenizer_fineweb-edu_sample-10BT_100k_ds_merges_30k.pickle\n",
      "HotFix: Filter out items containing out-of-vocabulary words\n",
      "Tokenizing dataset\n",
      "DatasetDict({\n",
      "    train: Dataset({\n",
      "        features: ['x', 'y'],\n",
      "        num_rows: 471598\n",
      "    })\n",
      "    validation: Dataset({\n",
      "        features: ['x', 'y'],\n",
      "        num_rows: 9625\n",
      "    })\n",
      "})\n",
      "Loading HellaSwag dataset\n",
      "Tokenizing dataset\n",
      "Dataset({\n",
      "    features: ['x', 'y'],\n",
      "    num_rows: 10042\n",
      "})\n"
     ]
    }
   ],
   "source": [
    "### DATASETs\n",
    "import datasets\n",
    "from tokenized_dataset import load_tokenized_dataset_gpt2, load_tokenized_dataset_hellaswag, unpack_hellaswag_x, unpack_hellaswag_batched_x, concatenate_hellaswag_y_and_choice, get_batched_examples, get_batched_examples_packed \n",
    "ds, (tokenize, detokenize, tokenizer_vocab_size) = load_tokenized_dataset_gpt2(\"train[:5%]\") #:1% or :1000\n",
    "ds = ds.train_test_split(test_size=0.02, seed=42) # TODO: put seed in better place? does it mess up with resume_from_checkpoint logic?\n",
    "ds = datasets.DatasetDict({\n",
    "    'train': ds['train'],\n",
    "    'validation': ds['test'] #rename\n",
    "})\n",
    "print(ds)\n",
    "\n",
    "# Some stats on HellaSwag. Given the tokenicer: \n",
    "# Max len of concatenated y+longest choice is 149\n",
    "# Max sum of choices tokens lens is 263 (Important for flattening choices in x + seq_len param for data collactor)\n",
    "hellaswag_ds = load_tokenized_dataset_hellaswag(tokenize)\n",
    "print(hellaswag_ds)"
   ]
  },
  {
   "cell_type": "code",
   "execution_count": 2,
   "id": "d0cf9da4",
   "metadata": {
    "editable": true,
    "slideshow": {
     "slide_type": ""
    },
    "tags": []
   },
   "outputs": [
    {
     "name": "stdout",
     "output_type": "stream",
     "text": [
      "Vocabulary size: 35_374\n",
      "Number of params: 112_614_958\n",
      "((True, False), (True,), (True, False, True, True, True, False, True, False, True, False), (True, False, True, True, True, False, True, False, True, False), (True, False, True, True, True, False, True, False, True, False), (True, False, True, True, True, False, True, False, True, False), (True, False, True, True, True, False, True, False, True, False), (True, False, True, True, True, False, True, False, True, False), (True, False, True, True, True, False, True, False, True, False), (True, False, True, True, True, False, True, False, True, False), (True, False, True, True, True, False, True, False, True, False), (True, False, True, True, True, False, True, False, True, False), (True, False, True, True, True, False, True, False, True, False), (True, False, True, True, True, False, True, False, True, False), (True, False))\n"
     ]
    }
   ],
   "source": [
    "### Model\n",
    "from model_triton import *\n",
    "\n",
    "LAYERS = 12\n",
    "model_vocab_size = tokenizer_vocab_size + 3 # add padding token (0) + start of sequence token + end of sequence token \n",
    "START_TOK = tokenizer_vocab_size + 1\n",
    "END_TOK = tokenizer_vocab_size + 2 # TODO: in default LLM convention, it should be 1. Also, it could be part of tokenizer_vocab_size\n",
    "EMB_DIM=768\n",
    "FFN_DIM=3072\n",
    "NUM_HEADS = 12\n",
    "seq_len= 512 # TODO XXX: 1024 is orginal paper\n",
    "params = init_transformer_gpt2(model_vocab_size, EMB_DIM, LAYERS, NUM_HEADS, FFN_DIM, seq_len)\n",
    "\n",
    "print(f'Vocabulary size: {model_vocab_size:_}')\n",
    "print(f'Number of params: {count_num_params(params):_}')\n",
    "\n",
    "# ### Loss + Grads + Optimizers\n",
    "from loss_and_optimizer_triton import loss_train, loss_eval, grad_loss, acc_grad_loss, init_adam_w, adam_w_in_place, grads_l2norm, grads_grps_l2norms # TODO XXX: add remaining\n",
    "# from loss_and_optimizer import loss_train, loss_eval, log_probs, grad_loss, predict, acc_grad_loss, init_adam_w, adam_w_in_place, grads_l2norm, grads_grps_l2norms\n",
    "\n",
    "# # Figure out non bias/gain params, as we only want to apply weight decay to those in AdamW\n",
    "# # Only 1D weights, which are initialized to 0s are bias/gain params (including bias of LayerNorm)\n",
    "weight_decay_mask = tuple([ tuple([not (item.ndim==1 and all(item==0)) for item in grp]) for grp in params])\n",
    "print(weight_decay_mask)"
   ]
  },
  {
   "cell_type": "code",
   "execution_count": 3,
   "id": "fc9f9e36",
   "metadata": {},
   "outputs": [],
   "source": [
    "# # Testing Memory Usage. I decided not to get too deep into it, since this uses torch.grad + torch.compile..\n",
    "# TODO XXX: It's still puzzling that the maximum batch_size which torchfunc's version can do is 8 in comparison to 16 by JAX...\n",
    "# import math\n",
    "\n",
    "# def convert_size(size_bytes):\n",
    "#    if size_bytes == 0:\n",
    "#        return \"0B\"\n",
    "#    size_name = (\"B\", \"KB\", \"MB\", \"GB\", \"TB\", \"PB\", \"EB\", \"ZB\", \"YB\")\n",
    "#    i = int(math.floor(math.log(size_bytes, 1024)))\n",
    "#    p = math.pow(1024, i)\n",
    "#    s = round(size_bytes / p, 2)\n",
    "#    return \"%s %s\" % (s, size_name[i])\n",
    "\n",
    "# def print_mem():\n",
    "#     print(convert_size(torch.cuda.memory_allocated()))\n",
    "    \n",
    "\n",
    "# print_mem()\n",
    "# _, y, _, y_mask, _, _, y_indices = next(get_batched_examples_packed(ds, 8, seq_len, START_TOK, END_TOK, pack_frac=0.75, skip_n_rows = 0))\n",
    "# y = torch.tensor(y, dtype=torch.int32, device=\"cuda\")\n",
    "# y_mask = torch.tensor(y_mask, dtype=torch.bool, device=\"cuda\")\n",
    "# y_indices = torch.tensor(y_indices, dtype=torch.int16, device=\"cuda\")\n",
    "# print_mem()\n",
    "# loss_val, (_, acc, _) = loss_train(params, y, y_mask, y_indices)\n",
    "# #grads, (loss_val, acc, _) = grad_loss(params, y, y_mask, y_indices)\n",
    "# print_mem()"
   ]
  },
  {
   "cell_type": "code",
   "execution_count": 4,
   "id": "74db99f1",
   "metadata": {},
   "outputs": [
    {
     "name": "stderr",
     "output_type": "stream",
     "text": [
      "\u001b[34m\u001b[1mwandb\u001b[0m: Using wandb-core as the SDK backend.  Please refer to https://wandb.me/wandb-core for more information.\n",
      "\u001b[34m\u001b[1mwandb\u001b[0m: Currently logged in as: \u001b[33mmkukla\u001b[0m. Use \u001b[1m`wandb login --relogin`\u001b[0m to force relogin\n"
     ]
    },
    {
     "data": {
      "text/html": [
       "Tracking run with wandb version 0.18.7"
      ],
      "text/plain": [
       "<IPython.core.display.HTML object>"
      ]
     },
     "metadata": {},
     "output_type": "display_data"
    },
    {
     "data": {
      "text/html": [
       "Run data is saved locally in <code>/efs/notebooks/mkukla/pre-tjax/wandb/run-20241122_093141-8qlhm41y</code>"
      ],
      "text/plain": [
       "<IPython.core.display.HTML object>"
      ]
     },
     "metadata": {},
     "output_type": "display_data"
    },
    {
     "data": {
      "text/html": [
       "Syncing run <strong><a href='https://wandb.ai/mkukla/t/runs/8qlhm41y' target=\"_blank\">laced-sun-130</a></strong> to <a href='https://wandb.ai/mkukla/t' target=\"_blank\">Weights & Biases</a> (<a href='https://wandb.me/developer-guide' target=\"_blank\">docs</a>)<br/>"
      ],
      "text/plain": [
       "<IPython.core.display.HTML object>"
      ]
     },
     "metadata": {},
     "output_type": "display_data"
    },
    {
     "data": {
      "text/html": [
       " View project at <a href='https://wandb.ai/mkukla/t' target=\"_blank\">https://wandb.ai/mkukla/t</a>"
      ],
      "text/plain": [
       "<IPython.core.display.HTML object>"
      ]
     },
     "metadata": {},
     "output_type": "display_data"
    },
    {
     "data": {
      "text/html": [
       " View run at <a href='https://wandb.ai/mkukla/t/runs/8qlhm41y' target=\"_blank\">https://wandb.ai/mkukla/t/runs/8qlhm41y</a>"
      ],
      "text/plain": [
       "<IPython.core.display.HTML object>"
      ]
     },
     "metadata": {},
     "output_type": "display_data"
    }
   ],
   "source": [
    "### Infra utils\n",
    "def print_mem_stats():\n",
    "    mem_stats = jax.devices()[0].memory_stats()\n",
    "    conv = lambda k: mem_stats[k] / pow(1000,3)\n",
    "    print(f'GB in use: {conv(\"bytes_in_use\")}. GB limit: {conv(\"bytes_limit\")}')\n",
    "\n",
    "# start a new wandb run to track this script\n",
    "if True:\n",
    "    import wandb\n",
    "    wandb.init(\n",
    "        # set the wandb project where this run will be logged\n",
    "        project=\"t\",\n",
    "    \n",
    "        # track hyperparameters and run metadata\n",
    "        #config={\n",
    "        #\"learning_rate\": 0.02,\n",
    "        #\"architecture\": \"CNN\",\n",
    "        #\"dataset\": \"CIFAR-100\",\n",
    "        #\"epochs\": 10,\n",
    "        #}\n",
    "        sync_tensorboard=True\n",
    "    )"
   ]
  },
  {
   "cell_type": "code",
   "execution_count": 6,
   "id": "16d1e5b1",
   "metadata": {
    "editable": true,
    "scrolled": true,
    "slideshow": {
     "slide_type": ""
    },
    "tags": []
   },
   "outputs": [
    {
     "name": "stderr",
     "output_type": "stream",
     "text": [
      "\u001b[34m\u001b[1mwandb\u001b[0m: \u001b[33mWARNING\u001b[0m When using several event log directories, please call `wandb.tensorboard.patch(root_logdir=\"...\")` before `wandb.init`\n",
      "\u001b[34m\u001b[1mwandb\u001b[0m: \u001b[33mWARNING\u001b[0m Found log directory outside of given root_logdir, dropping given root_logdir for event file in /lego/storage/output/runs/Nov22_09-35-30\n"
     ]
    },
    {
     "name": "stdout",
     "output_type": "stream",
     "text": [
      "Number of params: 112_614_958\n"
     ]
    },
    {
     "name": "stderr",
     "output_type": "stream",
     "text": [
      "  0%|          | 64/320000 [02:29<207:12:44,  2.33s/it]\n"
     ]
    },
    {
     "ename": "KeyboardInterrupt",
     "evalue": "",
     "output_type": "error",
     "traceback": [
      "\u001b[0;31m---------------------------------------------------------------------------\u001b[0m",
      "\u001b[0;31mKeyboardInterrupt\u001b[0m                         Traceback (most recent call last)",
      "Cell \u001b[0;32mIn[6], line 123\u001b[0m\n\u001b[1;32m    121\u001b[0m _, y, _, y_mask, _, _, y_indices \u001b[38;5;241m=\u001b[39m batch\n\u001b[1;32m    122\u001b[0m _, (loss_val, acc, toks_prop) \u001b[38;5;241m=\u001b[39m loss_eval(params, torch\u001b[38;5;241m.\u001b[39mtensor(y, dtype\u001b[38;5;241m=\u001b[39mtorch\u001b[38;5;241m.\u001b[39mint32, device\u001b[38;5;241m=\u001b[39m\u001b[38;5;124m\"\u001b[39m\u001b[38;5;124mcuda\u001b[39m\u001b[38;5;124m\"\u001b[39m), torch\u001b[38;5;241m.\u001b[39mtensor(y_mask, dtype\u001b[38;5;241m=\u001b[39mtorch\u001b[38;5;241m.\u001b[39mbool, device\u001b[38;5;241m=\u001b[39m\u001b[38;5;124m\"\u001b[39m\u001b[38;5;124mcuda\u001b[39m\u001b[38;5;124m\"\u001b[39m), torch\u001b[38;5;241m.\u001b[39mtensor(y_indices, dtype\u001b[38;5;241m=\u001b[39mtorch\u001b[38;5;241m.\u001b[39mint, device\u001b[38;5;241m=\u001b[39m\u001b[38;5;124m\"\u001b[39m\u001b[38;5;124mcuda\u001b[39m\u001b[38;5;124m\"\u001b[39m))\n\u001b[0;32m--> 123\u001b[0m val_losses\u001b[38;5;241m.\u001b[39mappend(\u001b[43mloss_val\u001b[49m\u001b[38;5;241;43m.\u001b[39;49m\u001b[43mcpu\u001b[49m\u001b[43m(\u001b[49m\u001b[43m)\u001b[49m)\n\u001b[1;32m    124\u001b[0m val_accs\u001b[38;5;241m.\u001b[39mappend(acc\u001b[38;5;241m.\u001b[39mcpu())\n\u001b[1;32m    125\u001b[0m val_toks_props\u001b[38;5;241m.\u001b[39mappend(toks_prop\u001b[38;5;241m.\u001b[39mcpu())\n",
      "\u001b[0;31mKeyboardInterrupt\u001b[0m: "
     ]
    }
   ],
   "source": [
    "## Training loop\n",
    "import datetime\n",
    "from tqdm import tqdm\n",
    "from torch.utils.tensorboard import SummaryWriter\n",
    "import itertools\n",
    "import pickle\n",
    "import numpy as np # should we get rid of it?\n",
    "import math\n",
    "\n",
    "# Infra training params\n",
    "run_name = datetime.datetime.now().strftime(\"%h%d_%H-%M-%S\")\n",
    "log_every_steps_multidevice = 10\n",
    "eval_every_steps_multidevice = 500\n",
    "eval_n_examples = 4\n",
    "writer = SummaryWriter(f'/lego/storage/output/runs/{run_name}')\n",
    "#checkpoint_every_steps = None #500 * 8 machines\n",
    "checkpoint_every_steps = 4000 #20000 # TODO: move to use _multidevice too\n",
    "resume_from_checkpoint = None\n",
    "#resume_from_checkpoint = 'runs/Jun07_10-12-10/checkpoint_4000.pkl' # TODO: Confirm runs from checkpoints are still fully reproducible\n",
    "\n",
    "\n",
    "# ML training params \n",
    "batch_size= 8 # 16 TODO XXX: WHY IT's not working for 16 like in JAX? \n",
    "gradient_accumulations_steps = 32 #16 -is for JAX # TODO XXX: This means effective batch_size=256 instead of 512 used in the paper\n",
    "num_steps_multidevice = 10000 #100000 # TODO XXX: think what it should be for GPT2\n",
    "max_lr = 0.00025\n",
    "warmup_steps_multidevice= 2000\n",
    "betas = (0.9, 0.98) \n",
    "epsilon = 10e-9\n",
    "grads, moments = init_adam_w(params)\n",
    "\n",
    "# TODO XXX: remove below one\n",
    "_, _, _, y_eval_mask, _, _, y_eval_indices  = next(get_batched_examples(ds, eval_n_examples, seq_len, START_TOK, END_TOK, \"validation\")) \n",
    "    \n",
    "i = 0 \n",
    "ds_train_rows_read = 0\n",
    "if resume_from_checkpoint is not None:\n",
    "    with open(resume_from_checkpoint,'rb') as f:\n",
    "        i, ds_train_rows_read, params, moments = pickle.load(f)   \n",
    "        print(f'Resuming training from the checkpoint: i {i} ds_train_rows_read {ds_train_rows_read}')\n",
    "\n",
    "print(f'Number of params: {count_num_params(params):_}')\n",
    "\n",
    "num_steps = num_steps_multidevice * gradient_accumulations_steps\n",
    "while True:\n",
    "    #for _, batch in tqdm(enumerate(itertools.islice(get_batched_examples(ds, batch_size, seq_len, START_TOK, END_TOK, skip_n_rows = ds_train_rows_read), num_steps)), initial=i, total=num_steps, smoothing=0):\n",
    "    for _, batch in tqdm(enumerate(itertools.islice(get_batched_examples_packed(ds, batch_size, seq_len, START_TOK, END_TOK, pack_frac=0.75, skip_n_rows = ds_train_rows_read), num_steps)), initial=i, total=num_steps, smoothing=0):\n",
    "        _, y, _, y_mask, _, _, y_indices = batch\n",
    "        # Training step\n",
    "        # TODO: introduce update func, which does grad_loss and adam, and then call/jit that function instead of calling/jitting two separate ones\n",
    "        # TODO XXX: int32 for y? we could use uint16 if it were available\n",
    "        grads, (loss_val, acc, _) = acc_grad_loss(grads, params, torch.tensor(y, dtype=torch.int32, device=\"cuda\"), torch.tensor(y_mask, dtype=torch.bool, device=\"cuda\"), torch.tensor(y_indices, dtype=torch.int, device=\"cuda\"))\n",
    "        #grads, (loss_val, acc) = grad_loss(params, jnp.array(x), jnp.array(y), key_iter)\n",
    "\n",
    "        # LR Scheduler\n",
    "        #lr = max_lr # for SGD\n",
    "\n",
    "        i_multidevice = i // gradient_accumulations_steps\n",
    "        is_i_device_zero = i % gradient_accumulations_steps == 0\n",
    "\n",
    "        # AIAYN:\n",
    "        #lr = pow(EMB_DIM, -0.5) * min(pow((i_multidevice+1), -0.5), (i_multidevice+1) * pow(warmup_steps, -1.5))\n",
    "\n",
    "        # GPT1:\n",
    "        if i_multidevice < warmup_steps_multidevice:\n",
    "            lr = (i_multidevice+1)/warmup_steps_multidevice * max_lr\n",
    "        else:\n",
    "            t_step = i_multidevice - warmup_steps_multidevice\n",
    "            t_max = num_steps_multidevice - warmup_steps_multidevice\n",
    "            lr = max_lr * (1 + math.cos(math.pi * t_step/t_max))/2\n",
    "\n",
    "        #params = sgd(params, grads, lr)\n",
    "        if i > 0 and i % gradient_accumulations_steps == 0:\n",
    "            for grp_i in range(len(grads)):\n",
    "                for p_i in range(len(grads[grp_i])):\n",
    "                    #grads[grp_i][p_i] =  grads[grp_i][p_i].at[:].divide(gradient_accumulations_steps) #TODO XXX: possible in place operation\n",
    "                    grads[grp_i][p_i] = grads[grp_i][p_i]/gradient_accumulations_steps\n",
    "            \n",
    "            #params, moments = adam_w(params, grads, lr, betas, epsilon, moments, i)\n",
    "            params, moments = adam_w_in_place(params, grads, lr, betas, epsilon, moments, i, weight_decay=0.01, weight_decay_mask=weight_decay_mask)\n",
    "    \n",
    "        # Logging:\n",
    "        if i_multidevice%log_every_steps_multidevice==0 and is_i_device_zero:\n",
    "            loss_val = loss_val.item()\n",
    "            acc = acc.item()\n",
    "            \n",
    "            grad_norm = grads_l2norm(grads)\n",
    "            grps_grad_norms = grads_grps_l2norms(grads)\n",
    "\n",
    "            \n",
    "            #print(f'iter #{i} loss {loss_val} acc {acc} lr {lr} grad_norm {grad_norm}')\n",
    "            #print_mem_stats() # TODO: monitor it in tensorboard?\n",
    "            writer.add_scalar('train/loss', loss_val, i_multidevice)\n",
    "            writer.add_scalar('train/acc', acc, i_multidevice)\n",
    "            writer.add_scalar('train/lr', lr, i_multidevice)\n",
    "            writer.add_scalar('train/grad_norm', grad_norm, i_multidevice)\n",
    "            for grp_i, grp_grad_norm in enumerate(grps_grad_norms):\n",
    "                writer.add_scalar(f'train_details/grad_norm_grp_{grp_i}', grp_grad_norm, i_multidevice)\n",
    "\n",
    "            # TODO: some metrics computed on x, other on y. Make it consistent\n",
    "            #pad_tokens_prop = sum([y_row.count(0) for y_row in y]) / sum([len(y_row) for y_row in y])\n",
    "            pad_tokens_prop = np.count_nonzero(y==0) / y.size\n",
    "            writer.add_scalar('train_data/pad_tokens_prop', pad_tokens_prop, i_multidevice)\n",
    "            writer.add_scalar('train_data/batch_size', len(y), i_multidevice)\n",
    "            writer.add_scalar('train_data/batch_seq_len', len(y[0]), i_multidevice)\n",
    "            writer.add_scalar('train_data/batch_total_tokens', len(y) * len(y[0]), i_multidevice)\n",
    "\n",
    "        # Zeroed accumulated grads: we have to do it after computing grad norms\n",
    "        if i > 0 and i % gradient_accumulations_steps == 0: \n",
    "            for grp_i in range(len(grads)):\n",
    "                for p_i in range(len(grads[grp_i])):\n",
    "                    #grads[grp_i][p_i] =  grads[grp_i][p_i].at[:].set(0) # TODO XXX: do it in place\n",
    "                    grads[grp_i][p_i] =  torch.zeros_like(grads[grp_i][p_i], device=\"cuda\")\n",
    "            \n",
    "        # Evaluation\n",
    "        if i_multidevice>0 and i_multidevice%eval_every_steps_multidevice==0 and is_i_device_zero:\n",
    "            val_losses = []\n",
    "            val_accs = []\n",
    "            val_toks_props = []\n",
    "            for eval_step, batch in enumerate(get_batched_examples(ds, batch_size, seq_len, START_TOK, END_TOK, split=\"validation\")): \n",
    "                _, y, _, y_mask, _, _, y_indices = batch\n",
    "                _, (loss_val, acc, toks_prop) = loss_eval(params, torch.tensor(y, dtype=torch.int32, device=\"cuda\"), torch.tensor(y_mask, dtype=torch.bool, device=\"cuda\"), torch.tensor(y_indices, dtype=torch.int, device=\"cuda\"))\n",
    "                val_losses.append(loss_val.cpu())\n",
    "                val_accs.append(acc.cpu())\n",
    "                val_toks_props.append(toks_prop.cpu())\n",
    "            writer.add_scalar('eval/loss', np.average(np.hstack(val_losses), weights = np.hstack(val_toks_props)).item(), i_multidevice)\n",
    "            writer.add_scalar('eval/acc', np.average(np.hstack(val_accs), weights = np.hstack(val_toks_props)).item(), i_multidevice)\n",
    "            \n",
    "# TODO XXX: Add predict and log_probs\n",
    "\n",
    "            # Few predictions TODO XXX: vary temperature -> diff samples\n",
    "#             y_sample = predict(params, jnp.array(y_eval_mask), jnp.array(y_eval_indices), seq_len, START_TOK, END_TOK)\n",
    "#             y_sample = tuple([item.tolist() for item in y_sample])\n",
    "#             def detokenize_y_in(y):\n",
    "#                 y_out = y[:, 1:]\n",
    "#                 y_out[y_out == END_TOK] = 0\n",
    "#                 return detokenize(y_out)\n",
    "#             for detokenized_y_sample in detokenize(y_sample):\n",
    "#                 print(f'PREDS: {detokenized_y_sample}\\n')\n",
    "\n",
    "            # Compute HellaSwag score\n",
    "#             print(f'Compute HellaSwag score')\n",
    "#             hellaswag_accs = [] # TODO XXX: enable seq_len be different for x vs y; \n",
    "#             num_hellaswag_batches = 100 #TODO XXX:; run for the whole dataset\n",
    "#             for _, batch in tqdm(enumerate(itertools.islice(get_batched_examples(hellaswag_ds, batch_size, seq_len, START_TOK, END_TOK, split=None), num_hellaswag_batches))):\n",
    "#                 choices_vals = []\n",
    "#                 x, y, _, y_mask, _, _, y_indices = batch\n",
    "#                 choices, labels = unpack_hellaswag_batched_x(x) \n",
    "                \n",
    "#                 for choice in choices:\n",
    "#                     y, y_mask = concatenate_hellaswag_y_and_choice(y, choice, END_TOK) # no need to return new y_indices for now.\n",
    "#                     choice_log_probs = log_probs(params, jnp.array(y), jnp.array(y_mask), jnp.array(y_indices))\n",
    "#                     choices_vals.append(choice_log_probs)\n",
    "#                 choices_vals = np.array(choices_vals).transpose() # we want choice per column\n",
    "#                 hellaswag_accs.extend(np.argmax(choices_vals, axis=1)==labels)\n",
    "                   \n",
    "#             hellaswag_acc = sum(hellaswag_accs)/len(hellaswag_accs)\n",
    "#             print(f'HellaSwag score:', hellaswag_acc)\n",
    "#             writer.add_scalar('eval/hellaswag', hellaswag_acc, i_multidevice)\n",
    "                \n",
    "        i = i + 1\n",
    "        ds_train_rows_read = ds_train_rows_read + len(y)\n",
    "\n",
    "        # Checkpointing (i, ds_train_rows_read, params, moments).\n",
    "        # TODO XXX: I haven't used it for a while, and likely it's not working.. probably we can delete \n",
    "        if checkpoint_every_steps is not None and (i>0 and i%checkpoint_every_steps==0):\n",
    "            import os\n",
    "            training_state = (i, ds_train_rows_read, params, moments)\n",
    "            filename = f'runs/{run_name}/checkpoint_{i}.pkl'\n",
    "            os.makedirs(os.path.dirname(filename), exist_ok=True)\n",
    "            with open(filename, 'wb') as f:\n",
    "                pickle.dump(training_state, f)\n",
    "                \n",
    "    ds_train_rows_read=0 # After each epoch, reset dataset pointer\n",
    "\n",
    "writer.close()"
   ]
  },
  {
   "cell_type": "code",
   "execution_count": null,
   "id": "f4acac0a",
   "metadata": {},
   "outputs": [],
   "source": [
    "# FOR TESTING\n",
    "\n",
    "# Compute HellaSwag score\n",
    "import numpy as np\n",
    "\n",
    "hellaswag_accs = []\n",
    "from tqdm import tqdm\n",
    "import itertools\n",
    "for _, batch in tqdm(enumerate(itertools.islice(get_batched_examples(hellaswag_ds, 2, seq_len, START_TOK, END_TOK, split=None), 4))): \n",
    "#for _, batch in tqdm(enumerate(get_batched_examples(hellaswag_ds, 1, 400, START_TOK, END_TOK, split=None))):\n",
    "    choices_vals = []\n",
    "    x, y, _, y_mask, _, _, y_indices = batch\n",
    "    choices, labels = unpack_hellaswag_batched_x(x)\n",
    "    \n",
    "    for choice in choices:\n",
    "        y, y_mask = concatenate_hellaswag_y_and_choice(y, choice, END_TOK) # no need to return new y_indices for now.\n",
    "        choice_log_probs = log_probs(params, jnp.array(y), jnp.array(y_mask), jnp.array(y_indices))\n",
    "        choices_vals.append(choice_log_probs)\n",
    "    choices_vals = np.array(choices_vals).transpose()\n",
    "    hellaswag_accs.extend(np.argmax(choices_vals, axis=1)==labels)\n",
    "\n",
    "#print(\"hellaswag_accs\", hellaswag_accs)\n",
    "hellaswag_acc = sum(hellaswag_accs)/len(hellaswag_accs)\n",
    "print(hellaswag_acc)\n"
   ]
  },
  {
   "cell_type": "code",
   "execution_count": null,
   "id": "fb5d54ef",
   "metadata": {},
   "outputs": [],
   "source": [
    "### Final test predictions + BLEU computation\n",
    "x_tokens_per_batch = 15000 #For variable batch len, we don't use it as we can fit less data (paper does 25k)\n",
    "\n",
    "print(f'Few predictions for validation dataset')\n",
    "y_sample = predict(params, jnp.array(x_eval), seq_len, START_TOK, END_TOK)\n",
    "y_sample = tuple([item.tolist() for item in y_sample])\n",
    "for detekonized_x_eval, detokenized_y_eval, detokenized_y_sample in zip(detokenize(x_eval), detokenize(y_eval), detokenize(y_sample)):\n",
    "    print(f'X:{detekonized_x_eval}\\tY: {detokenized_y_eval} \\tPREDS: {detokenized_y_sample}\\n')\n",
    "    references.append(detokenized_y_eval)\n",
    "    predictions.append(detokenized_y_sample)\n",
    "\n",
    "print(f'Computing BLEU for validation dataset')\n",
    "import evaluate\n",
    "references = [] \n",
    "predictions = []\n",
    "for _, (x, y) in tqdm(enumerate(get_batched_examples_per_length(ds, x_tokens_per_batch, split=\"validation\"))):\n",
    "    y_sample = predict(params, jnp.array(x), seq_len, START_TOK, END_TOK)\n",
    "    y_sample = tuple([item.tolist() for item in y_sample])\n",
    "    for detekonized_x_eval, detokenized_y_eval, detokenized_y_sample in zip(detokenize(x), detokenize(y), detokenize(y_sample)):\n",
    "        references.append(detokenized_y_eval)\n",
    "        predictions.append(detokenized_y_sample)\n",
    "\n",
    "bleu = evaluate.load(\"bleu\")\n",
    "results = bleu.compute(predictions=predictions, references=references)\n",
    "print(results)"
   ]
  }
 ],
 "metadata": {
  "kernelspec": {
   "display_name": "Python 3 (ipykernel)",
   "language": "python",
   "name": "python3"
  },
  "language_info": {
   "codemirror_mode": {
    "name": "ipython",
    "version": 3
   },
   "file_extension": ".py",
   "mimetype": "text/x-python",
   "name": "python",
   "nbconvert_exporter": "python",
   "pygments_lexer": "ipython3",
   "version": "3.10.12"
  }
 },
 "nbformat": 4,
 "nbformat_minor": 5
}
