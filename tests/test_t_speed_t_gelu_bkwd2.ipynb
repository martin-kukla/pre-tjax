{
 "cells": [
  {
   "cell_type": "code",
   "execution_count": 1,
   "id": "950ce585",
   "metadata": {},
   "outputs": [
    {
     "name": "stdout",
     "output_type": "stream",
     "text": [
      "--------------------------------------------  ------------  ------------  ------------  ------------  ------------  ------------  ------------  ------------  ------------  ------------  \n",
      "                                        Name    Self CPU %      Self CPU   CPU total %     CPU total  CPU time avg     Self CUDA   Self CUDA %    CUDA total  CUDA time avg    # of Calls  \n",
      "--------------------------------------------  ------------  ------------  ------------  ------------  ------------  ------------  ------------  ------------  ------------  ------------  \n",
      "                       Torch-Compiled Region        55.68%       5.494ms        82.45%       8.135ms      81.350us       0.000us         0.00%       8.618ms      86.180us           100  \n",
      "    triton_poi_fused_add_mul_pow_rsub_tanh_0        17.77%       1.753ms        24.30%       2.398ms      23.980us       7.834ms       100.00%       8.540ms      85.400us           100  \n",
      "                            triton__0d1d2d3d         0.00%       0.000us         0.00%       0.000us       0.000us       7.834ms       100.00%       7.834ms      78.340us           100  \n",
      "                              cuLaunchKernel         6.54%     645.000us         6.54%     645.000us       6.450us     706.000us         9.01%     706.000us       7.060us           100  \n",
      "                       cudaStreamIsCapturing         0.03%       3.000us         0.03%       3.000us       3.000us      78.000us         1.00%      78.000us      78.000us             1  \n",
      "                    TorchDynamo Cache Lookup         2.82%     278.000us         2.82%     278.000us       2.780us       0.000us         0.00%       0.000us       0.000us           100  \n",
      "                                  cudaMalloc         2.43%     240.000us         2.43%     240.000us     240.000us       0.000us         0.00%       0.000us       0.000us             1  \n",
      "                       cudaDeviceSynchronize        14.74%       1.454ms        14.74%       1.454ms       1.454ms       0.000us         0.00%       0.000us       0.000us             1  \n",
      "--------------------------------------------  ------------  ------------  ------------  ------------  ------------  ------------  ------------  ------------  ------------  ------------  \n",
      "Self CPU time total: 9.867ms\n",
      "Self CUDA time total: 7.834ms\n",
      "\n",
      "total 0.008219242095947266\n"
     ]
    },
    {
     "name": "stderr",
     "output_type": "stream",
     "text": [
      "STAGE:2025-01-21 10:31:44 65120:65120 ActivityProfilerController.cpp:314] Completed Stage: Warm Up\n",
      "STAGE:2025-01-21 10:31:44 65120:65120 ActivityProfilerController.cpp:320] Completed Stage: Collection\n",
      "STAGE:2025-01-21 10:31:44 65120:65120 ActivityProfilerController.cpp:324] Completed Stage: Post Processing\n"
     ]
    }
   ],
   "source": [
    "import torch\n",
    "from model_triton import *\n",
    "\n",
    "dloss_dx = torch.randn((2, 512, 3072), device=\"cuda\")\n",
    "aa = torch.randn((2, 512, 3072), device=\"cuda\")\n",
    "#aa = aa.view(-1)\n",
    "N = 100\n",
    "\n",
    "fn_naive = t_gelu_bkwd2\n",
    "fn_jit = torch.compile(fn_naive)\n",
    "fn_jit(dloss_dx, aa) # burn it\n",
    "\n",
    "from torch.profiler import profile, record_function, ProfilerActivity, schedule\n",
    "activities = [ProfilerActivity.CPU, ProfilerActivity.CUDA]\n",
    "with profile(activities=activities, record_shapes=True) as prof:\n",
    "    for _ in range(N):\n",
    "        result = fn_jit(dloss_dx, aa)\n",
    "print(prof.key_averages().table(sort_by=\"cuda_time_total\", row_limit=10))\n",
    "\n",
    "import time\n",
    "t0 = time.time()\n",
    "for _ in range(N):\n",
    "    result = fn_jit(dloss_dx, aa)\n",
    "torch.cuda.synchronize()\n",
    "t1 = time.time()\n",
    "total = t1-t0\n",
    "print(f'total', total)"
   ]
  },
  {
   "cell_type": "code",
   "execution_count": 2,
   "id": "6ee97ed5",
   "metadata": {},
   "outputs": [
    {
     "name": "stdout",
     "output_type": "stream",
     "text": [
      "---------------------------  ------------  ------------  ------------  ------------  ------------  ------------  ------------  ------------  ------------  ------------  \n",
      "                       Name    Self CPU %      Self CPU   CPU total %     CPU total  CPU time avg     Self CUDA   Self CUDA %    CUDA total  CUDA time avg    # of Calls  \n",
      "---------------------------  ------------  ------------  ------------  ------------  ------------  ------------  ------------  ------------  ------------  ------------  \n",
      "    t_gelu_bkwd2_k_0d1d2d3d         0.00%       0.000us         0.00%       0.000us       0.000us       7.914ms       100.00%       7.914ms      79.140us           100  \n",
      "                 aten::view         7.05%     300.000us         7.05%     300.000us       1.000us       0.000us         0.00%       0.000us       0.000us           300  \n",
      "           aten::empty_like         5.64%     240.000us        66.57%       2.834ms      28.340us       0.000us         0.00%       0.000us       0.000us           100  \n",
      "        aten::empty_strided        61.26%       2.608ms        61.26%       2.608ms      26.080us       0.000us         0.00%       0.000us       0.000us           100  \n",
      "             cuLaunchKernel        20.30%     864.000us        20.30%     864.000us       8.640us       0.000us         0.00%       0.000us       0.000us           100  \n",
      "              aten::reshape         4.91%     209.000us         9.87%     420.000us       4.200us       0.000us         0.00%       0.000us       0.000us           100  \n",
      "      cudaDeviceSynchronize         0.85%      36.000us         0.85%      36.000us      36.000us       0.000us         0.00%       0.000us       0.000us             1  \n",
      "---------------------------  ------------  ------------  ------------  ------------  ------------  ------------  ------------  ------------  ------------  ------------  \n",
      "Self CPU time total: 4.257ms\n",
      "Self CUDA time total: 7.914ms\n",
      "\n",
      "total 0.013065099716186523\n"
     ]
    },
    {
     "name": "stderr",
     "output_type": "stream",
     "text": [
      "STAGE:2025-01-21 10:31:44 65120:65120 ActivityProfilerController.cpp:314] Completed Stage: Warm Up\n",
      "STAGE:2025-01-21 10:31:44 65120:65120 ActivityProfilerController.cpp:320] Completed Stage: Collection\n",
      "STAGE:2025-01-21 10:31:44 65120:65120 ActivityProfilerController.cpp:324] Completed Stage: Post Processing\n"
     ]
    }
   ],
   "source": [
    "def t_gelu_bkwd(x): # TODO XXX XXX: I think maths can be simplified here? \n",
    "    k = math.sqrt(2/math.pi)\n",
    "    tanh_term = torch.tanh(k * (x + 0.044715 * torch.pow(x,3)))\n",
    "    tanh_dx = (1 - torch.pow(tanh_term, 2)) * k * ( 1 + 3 * 0.044715 * torch.pow(x,2))\n",
    "    \n",
    "    return 0.5 * (1 + tanh_term) + 0.5 * x * tanh_dx\n",
    "\n",
    "import triton\n",
    "import triton.language as tl\n",
    "\n",
    "# TODO T: explore using tl.erf for implementing this\n",
    "@triton.jit\n",
    "def tanh_k(x):\n",
    "    return 2 * tl.sigmoid(2 * x) - 1\n",
    "\n",
    "# TODO T: Do it in-place?\n",
    "@triton.jit\n",
    "def t_gelu_bkwd2_k(dloss_dx_ptr,\n",
    "                    x_ptr,\n",
    "                    output_ptr,\n",
    "                    n_elements,\n",
    "                    BLOCK_SIZE: tl.constexpr,\n",
    "                    # NOTE: `constexpr` so it can be used as a shape value. <- TODO T: think about it\n",
    "                    ):\n",
    "    pid = tl.program_id(axis=0)  \n",
    "    block_start = pid * BLOCK_SIZE\n",
    "    offsets = block_start + tl.arange(0, BLOCK_SIZE)\n",
    "    mask = offsets < n_elements\n",
    "    dloss_dx = tl.load(dloss_dx_ptr + offsets, mask=mask)\n",
    "    x = tl.load(x_ptr + offsets, mask=mask)\n",
    "    k = tl.sqrt(2/math.pi) # TODO T: compute one as contant outside\n",
    "    x2 = x * x\n",
    "    tanh_term = tanh_k(k * (x + 0.044715 * x * x2)) # TODO XXX XXX: Simplify maths\n",
    "    tanh_dx = (1 - tanh_term * tanh_term) * k * (1 + 3 * 0.044715 * x2)\n",
    "    jac = 0.5 * (1 + tanh_term) + 0.5 * x * tanh_dx\n",
    "    output = dloss_dx * jac\n",
    "    tl.store(output_ptr + offsets, output, mask=mask)\n",
    "    \n",
    "def t_gelu_bkwd2_t(dloss_dx: torch.Tensor, x: torch.Tensor):\n",
    "    # TODO T: do it in 3D instead\n",
    "    dloss_dx_1d = dloss_dx.view(-1)\n",
    "    x_1d = x.view(-1)  \n",
    "    output = torch.empty_like(x_1d)\n",
    "    n_elements = output.numel()\n",
    "    grid = lambda meta: (triton.cdiv(n_elements, meta['BLOCK_SIZE']), )\n",
    "    t_gelu_bkwd2_k[grid](dloss_dx, x_1d, output, n_elements, BLOCK_SIZE=1024)\n",
    "    return output.reshape(x.shape)\n",
    "\n",
    "fn_t = t_gelu_bkwd2_t\n",
    "\n",
    "from torch.profiler import profile, record_function, ProfilerActivity, schedule\n",
    "activities = [ProfilerActivity.CPU, ProfilerActivity.CUDA]\n",
    "with profile(activities=activities, record_shapes=True) as prof:\n",
    "    for _ in range(N):\n",
    "        result = fn_t(dloss_dx, aa)\n",
    "print(prof.key_averages().table(sort_by=\"cuda_time_total\", row_limit=20))\n",
    "\n",
    "import time\n",
    "t0 = time.time()\n",
    "for _ in range(N):\n",
    "    result = fn_t(dloss_dx, aa)\n",
    "torch.cuda.synchronize()\n",
    "t1 = time.time()\n",
    "total = t1-t0\n",
    "print(f'total', total)"
   ]
  },
  {
   "cell_type": "code",
   "execution_count": 3,
   "id": "43ca9fb7",
   "metadata": {},
   "outputs": [
    {
     "name": "stdout",
     "output_type": "stream",
     "text": [
      "res1 torch.Size([2, 512, 3072]) tensor([[[ 0.0129,  0.5909,  0.8524,  ...,  0.4920,  0.3972,  0.0195],\n",
      "         [-0.5813,  1.0128, -0.1034,  ...,  0.6286,  0.0270, -1.7619],\n",
      "         [-0.0969, -0.1962, -1.1235,  ...,  0.1040,  0.0630, -0.0295],\n",
      "         ...,\n",
      "         [ 0.0667,  0.0478, -0.3204,  ..., -0.0590, -0.4764,  0.0160],\n",
      "         [ 0.0342,  0.0219, -0.3152,  ..., -0.4697, -0.0022, -0.2685],\n",
      "         [ 0.0422,  0.0282,  0.9215,  ..., -0.1400,  0.0809,  0.4046]],\n",
      "\n",
      "        [[-0.0984,  0.5713, -0.0710,  ..., -0.0516,  0.9907,  0.0267],\n",
      "         [-1.1496,  0.0020, -0.1971,  ...,  1.3772, -0.0420, -1.1024],\n",
      "         [-0.1191,  0.6651, -0.2096,  ..., -0.2850, -0.0212,  0.1259],\n",
      "         ...,\n",
      "         [ 0.4242,  0.2788, -0.5770,  ...,  0.3354,  0.3744, -0.0195],\n",
      "         [ 1.1129, -0.1250, -0.0096,  ...,  0.2076,  0.0698, -0.0183],\n",
      "         [ 0.7973, -0.0390, -0.0462,  ...,  0.0319, -0.0623,  1.8211]]],\n",
      "       device='cuda:0')\n",
      "res2 torch.Size([2, 512, 3072]) tensor([[[ 0.0129,  0.5909,  0.8524,  ...,  0.4920,  0.3972,  0.0195],\n",
      "         [-0.5813,  1.0128, -0.1034,  ...,  0.6286,  0.0270, -1.7619],\n",
      "         [-0.0969, -0.1962, -1.1235,  ...,  0.1040,  0.0630, -0.0295],\n",
      "         ...,\n",
      "         [ 0.0667,  0.0478, -0.3204,  ..., -0.0590, -0.4764,  0.0160],\n",
      "         [ 0.0342,  0.0219, -0.3152,  ..., -0.4697, -0.0022, -0.2685],\n",
      "         [ 0.0422,  0.0282,  0.9215,  ..., -0.1400,  0.0809,  0.4046]],\n",
      "\n",
      "        [[-0.0984,  0.5713, -0.0710,  ..., -0.0516,  0.9907,  0.0267],\n",
      "         [-1.1496,  0.0020, -0.1971,  ...,  1.3772, -0.0420, -1.1024],\n",
      "         [-0.1191,  0.6651, -0.2096,  ..., -0.2850, -0.0212,  0.1259],\n",
      "         ...,\n",
      "         [ 0.4242,  0.2788, -0.5770,  ...,  0.3354,  0.3744, -0.0195],\n",
      "         [ 1.1129, -0.1250, -0.0096,  ...,  0.2076,  0.0698, -0.0183],\n",
      "         [ 0.7973, -0.0390, -0.0462,  ...,  0.0319, -0.0623,  1.8211]]],\n",
      "       device='cuda:0')\n"
     ]
    }
   ],
   "source": [
    "res1 = fn_jit(dloss_dx, aa)\n",
    "print(f'res1', res1.shape, res1)\n",
    "res2 = fn_t(dloss_dx, aa)\n",
    "print(f'res2', res2.shape, res2)"
   ]
  },
  {
   "cell_type": "code",
   "execution_count": 4,
   "id": "ace09f82",
   "metadata": {},
   "outputs": [
    {
     "data": {
      "image/png": "[encoded data removed]",
      "text/plain": [
       "<Figure size 640x480 with 1 Axes>"
      ]
     },
     "metadata": {},
     "output_type": "display_data"
    },
    {
     "name": "stdout",
     "output_type": "stream",
     "text": [
      "t_gelu_fwd:\n",
      "           size      Triton       Torch      naive\n",
      "0        4096.0   10.105264    9.941748   1.343832\n",
      "1        8192.0   21.186207   21.787235   2.650561\n",
      "2       16384.0   38.161490   37.012049   5.319481\n",
      "3       32768.0   72.710056   73.142858  10.172185\n",
      "4       65536.0  126.030769  124.121216  18.217939\n",
      "5      131072.0  186.889738  190.143141  32.167539\n",
      "6      262144.0  282.482757  286.600589  54.765458\n",
      "7      524288.0  360.417951  359.429633  55.641152\n",
      "8     1048576.0  415.661740  392.431159  43.425291\n",
      "9     2097152.0  442.312702  439.593068  33.827942\n",
      "10    4194304.0  459.632966  464.108592  34.743300\n",
      "11    8388608.0  469.336521  479.458626  35.117587\n",
      "12   16777216.0  475.024034  485.901766  35.414495\n",
      "13   33554432.0  477.493634  487.445252  35.453363\n",
      "14   67108864.0  478.628801  492.212173  35.635121\n",
      "15  134217728.0  479.390135  495.214767  35.650150\n"
     ]
    }
   ],
   "source": [
    "@triton.testing.perf_report(\n",
    "    triton.testing.Benchmark(\n",
    "        x_names=['size'],  # Argument names to use as an x-axis for the plot.\n",
    "        x_vals=[2**i for i in range(12, 28, 1)],  # Different possible values for `x_name`.\n",
    "        x_log=True,  # x axis is logarithmic.\n",
    "        line_arg='provider',  # Argument name whose value corresponds to a different line in the plot.\n",
    "        line_vals=['triton', 'torch', 'naive'],  # Possible values for `line_arg`.\n",
    "        line_names=['Triton', 'Torch', 'naive'],  # Label name for the lines.\n",
    "        styles=[('blue', '-'), ('green', '-'), ('orange', '-')],  # Line styles.\n",
    "        ylabel='GB/s',  # Label name for the y-axis.\n",
    "        plot_name='t_gelu_fwd',  # Name for the plot. Used also as a file name for saving the plot.\n",
    "        args={},  # Values for function arguments not in `x_names` and `y_name`.\n",
    "    ))\n",
    "def benchmark(size, provider):\n",
    "    dloss_dx = torch.rand(size, device=\"cuda\", dtype=torch.float32)    \n",
    "    x = torch.rand(size, device=\"cuda\", dtype=torch.float32)\n",
    "    quantiles = [0.5, 0.2, 0.8]\n",
    "    if provider == 'torch':\n",
    "        ms, min_ms, max_ms = triton.testing.do_bench(lambda: fn_jit(dloss_dx, x), quantiles=quantiles)\n",
    "    if provider == 'triton':\n",
    "        ms, min_ms, max_ms = triton.testing.do_bench(lambda: fn_t(dloss_dx, x), quantiles=quantiles)\n",
    "    if provider == 'naive':\n",
    "        ms, min_ms, max_ms = triton.testing.do_bench(lambda: fn_naive(dloss_dx, x), quantiles=quantiles)\n",
    "    gbps = lambda ms: 3 * x.numel() * x.element_size() * 1e-9 / (ms * 1e-3)\n",
    "    return gbps(ms), gbps(max_ms), gbps(min_ms)\n",
    "benchmark.run(print_data=True, show_plots=True)"
   ]
  },
  {
   "cell_type": "code",
   "execution_count": 5,
   "id": "fad088d5",
   "metadata": {},
   "outputs": [
    {
     "data": {
      "text/plain": [
       "3145728"
      ]
     },
     "execution_count": 5,
     "metadata": {},
     "output_type": "execute_result"
    }
   ],
   "source": [
    "aa.numel()"
   ]
  },
  {
   "cell_type": "code",
   "execution_count": null,
   "id": "bb985ee1",
   "metadata": {},
   "outputs": [],
   "source": []
  }
 ],
 "metadata": {
  "kernelspec": {
   "display_name": "Python 3 (ipykernel)",
   "language": "python",
   "name": "python3"
  },
  "language_info": {
   "codemirror_mode": {
    "name": "ipython",
    "version": 3
   },
   "file_extension": ".py",
   "mimetype": "text/x-python",
   "name": "python",
   "nbconvert_exporter": "python",
   "pygments_lexer": "ipython3",
   "version": "3.10.12"
  }
 },
 "nbformat": 4,
 "nbformat_minor": 5
}
