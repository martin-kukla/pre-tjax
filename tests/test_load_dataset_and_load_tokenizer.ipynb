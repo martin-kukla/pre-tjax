{
 "cells": [
  {
   "cell_type": "code",
   "execution_count": 1,
   "id": "e79aa66f-b4c8-4de0-ab38-cf73f96c22de",
   "metadata": {},
   "outputs": [
    {
     "name": "stdout",
     "output_type": "stream",
     "text": [
      "Loading dataset\n",
      "Loading tokenizer bpe_tokenizer_ds_train_all_merges_35k.pickle\n",
      "Tokenizing dataset\n",
      "tokenized [[23954, 12114, 3613, 3586, 12466], [31352, 3606, 29833]] detokenized ['resumption of the session ', 'wiederaufnahme der sitzungsperiode ']\n"
     ]
    },
    {
     "ename": "TypeError",
     "evalue": "get_batched_examples() missing 1 required positional argument: 'seq_len'",
     "output_type": "error",
     "traceback": [
      "\u001b[0;31m---------------------------------------------------------------------------\u001b[0m",
      "\u001b[0;31mTypeError\u001b[0m                                 Traceback (most recent call last)",
      "Cell \u001b[0;32mIn[1], line 14\u001b[0m\n\u001b[1;32m     11\u001b[0m     \u001b[38;5;28mprint\u001b[39m(\u001b[38;5;124mf\u001b[39m\u001b[38;5;124m'\u001b[39m\u001b[38;5;124mtokenized \u001b[39m\u001b[38;5;132;01m{\u001b[39;00mx_and_y\u001b[38;5;132;01m}\u001b[39;00m\u001b[38;5;124m detokenized \u001b[39m\u001b[38;5;132;01m{\u001b[39;00mdetokenize(x_and_y)\u001b[38;5;132;01m}\u001b[39;00m\u001b[38;5;124m'\u001b[39m)\n\u001b[1;32m     13\u001b[0m \u001b[38;5;66;03m# Test data collector\u001b[39;00m\n\u001b[0;32m---> 14\u001b[0m \u001b[38;5;28;01mfor\u001b[39;00m x, y \u001b[38;5;129;01min\u001b[39;00m tqdm(itertools\u001b[38;5;241m.\u001b[39mislice(\u001b[43mget_batched_examples\u001b[49m\u001b[43m(\u001b[49m\u001b[43mds\u001b[49m\u001b[43m,\u001b[49m\u001b[43m \u001b[49m\u001b[38;5;241;43m3\u001b[39;49m\u001b[43m)\u001b[49m, \u001b[38;5;241m1\u001b[39m)):\n\u001b[1;32m     15\u001b[0m     \u001b[38;5;28mprint\u001b[39m(\u001b[38;5;124mf\u001b[39m\u001b[38;5;124m'\u001b[39m\u001b[38;5;124mx \u001b[39m\u001b[38;5;132;01m{\u001b[39;00mx\u001b[38;5;132;01m}\u001b[39;00m\u001b[38;5;124m'\u001b[39m)\n\u001b[1;32m     16\u001b[0m     \u001b[38;5;28mprint\u001b[39m(\u001b[38;5;124mf\u001b[39m\u001b[38;5;124m'\u001b[39m\u001b[38;5;124my \u001b[39m\u001b[38;5;132;01m{\u001b[39;00my\u001b[38;5;132;01m}\u001b[39;00m\u001b[38;5;124m'\u001b[39m)\n",
      "\u001b[0;31mTypeError\u001b[0m: get_batched_examples() missing 1 required positional argument: 'seq_len'"
     ]
    }
   ],
   "source": [
    "# Test LOAD DATASET + LOAD TOKENIZER \n",
    "from tokenized_dataset import load_tokenized_dataset, get_batched_examples\n",
    "import itertools\n",
    "from tqdm import tqdm\n",
    "\n",
    "ds, (tokenizer, detokenize, vocab_len) = load_tokenized_dataset()\n",
    "\n",
    "# Test dataset & (de)tokenize\n",
    "for item in itertools.islice(ds[\"train\"], 1):\n",
    "    x_and_y = [item[\"x\"], item[\"y\"]]\n",
    "    print(f'tokenized {x_and_y} detokenized {detokenize(x_and_y)}')\n",
    "\n",
    "# Test data collector\n",
    "for x, y in tqdm(itertools.islice(get_batched_examples(ds, 3), 1)):\n",
    "    print(f'x {x}')\n",
    "    print(f'y {y}')"
   ]
  },
  {
   "cell_type": "code",
   "execution_count": null,
   "id": "eded4c46-6209-4429-aa8a-841e5aedbbf6",
   "metadata": {},
   "outputs": [],
   "source": []
  }
 ],
 "metadata": {
  "kernelspec": {
   "display_name": "Python 3 (ipykernel)",
   "language": "python",
   "name": "python3"
  },
  "language_info": {
   "codemirror_mode": {
    "name": "ipython",
    "version": 3
   },
   "file_extension": ".py",
   "mimetype": "text/x-python",
   "name": "python",
   "nbconvert_exporter": "python",
   "pygments_lexer": "ipython3",
   "version": "3.10.12"
  }
 },
 "nbformat": 4,
 "nbformat_minor": 5
}
