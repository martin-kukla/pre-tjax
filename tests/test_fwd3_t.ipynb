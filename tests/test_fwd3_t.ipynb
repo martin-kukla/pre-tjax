{
 "cells": [
  {
   "cell_type": "code",
   "execution_count": 1,
   "id": "5fe163af",
   "metadata": {},
   "outputs": [
    {
     "name": "stdout",
     "output_type": "stream",
     "text": [
      "tensor([[[-0.121750, -0.049716,  0.255192,  ..., -0.095632,  0.082414,\n",
      "          -0.118754],\n",
      "         [-0.156099, -0.205412,  0.323758,  ...,  0.193226,  0.046833,\n",
      "           0.331142],\n",
      "         [-0.163206, -0.231650,  0.123777,  ..., -0.023117, -0.302415,\n",
      "          -0.250485],\n",
      "         ...,\n",
      "         [ 0.111507, -0.186753,  0.164638,  ..., -0.016895, -0.142807,\n",
      "           0.094000],\n",
      "         [-0.061341,  0.086395,  0.189143,  ...,  0.041986,  0.263310,\n",
      "          -0.111488],\n",
      "         [ 0.171672, -0.020613, -0.329271,  ...,  0.219474,  0.067053,\n",
      "           0.396186]],\n",
      "\n",
      "        [[-0.007150, -0.051896, -0.020035,  ...,  0.179652,  0.125414,\n",
      "          -0.117793],\n",
      "         [ 0.012357, -0.069802, -0.234931,  ...,  0.080076, -0.267802,\n",
      "           0.081603],\n",
      "         [-0.095608,  0.052709, -0.296614,  ...,  0.089055,  0.044480,\n",
      "           0.055714],\n",
      "         ...,\n",
      "         [-0.040908,  0.090995, -0.020188,  ..., -0.188718,  0.172418,\n",
      "          -0.065628],\n",
      "         [-0.100947,  0.079405, -0.077578,  ...,  0.138196,  0.008950,\n",
      "          -0.081001],\n",
      "         [ 0.125790,  0.000734, -0.267305,  ..., -0.120386, -0.022941,\n",
      "          -0.021625]]], device='cuda:0')\n",
      "----X----\n"
     ]
    },
    {
     "name": "stderr",
     "output_type": "stream",
     "text": [
      "loc(callsite(\"/efs/notebooks/mkukla/pre-tjax/model_triton.py\":1463:7 at \"/efs/notebooks/mkukla/pre-tjax/model_triton.py\":690:64)): error: operation scheduled before its operands\n",
      "loc(callsite(\"/efs/notebooks/mkukla/pre-tjax/model_triton.py\":1463:7 at \"/efs/notebooks/mkukla/pre-tjax/model_triton.py\":690:64)): error: operation scheduled before its operands\n",
      "loc(callsite(\"/efs/notebooks/mkukla/pre-tjax/model_triton.py\":1463:7 at \"/efs/notebooks/mkukla/pre-tjax/model_triton.py\":690:64)): error: operation scheduled before its operands\n",
      "loc(callsite(\"/efs/notebooks/mkukla/pre-tjax/model_triton.py\":1463:7 at \"/efs/notebooks/mkukla/pre-tjax/model_triton.py\":690:64)): error: operation scheduled before its operands\n"
     ]
    },
    {
     "name": "stdout",
     "output_type": "stream",
     "text": [
      "tensor([[[-0.121750, -0.049716,  0.255192,  ..., -0.095632,  0.082414,\n",
      "          -0.118754],\n",
      "         [-0.156089, -0.205429,  0.323747,  ...,  0.193217,  0.046856,\n",
      "           0.331167],\n",
      "         [-0.163225, -0.231646,  0.123783,  ..., -0.023115, -0.302414,\n",
      "          -0.250477],\n",
      "         ...,\n",
      "         [ 0.111507, -0.186753,  0.164638,  ..., -0.016895, -0.142807,\n",
      "           0.094000],\n",
      "         [-0.061351,  0.086386,  0.189182,  ...,  0.041987,  0.263344,\n",
      "          -0.111471],\n",
      "         [ 0.171679, -0.020618, -0.329262,  ...,  0.219468,  0.067055,\n",
      "           0.396186]],\n",
      "\n",
      "        [[ 0.008889, -0.048972, -0.003976,  ...,  0.196161,  0.116899,\n",
      "          -0.128681],\n",
      "         [ 0.023490, -0.075754, -0.222352,  ...,  0.093987, -0.273189,\n",
      "           0.076449],\n",
      "         [-0.090338,  0.042223, -0.286589,  ...,  0.090479,  0.053619,\n",
      "           0.045792],\n",
      "         ...,\n",
      "         [-0.041011,  0.090959, -0.020124,  ..., -0.188746,  0.172540,\n",
      "          -0.065610],\n",
      "         [-0.100985,  0.079360, -0.077743,  ...,  0.138136,  0.009094,\n",
      "          -0.080958],\n",
      "         [ 0.125775,  0.000698, -0.267243,  ..., -0.120341, -0.022944,\n",
      "          -0.021624]]], device='cuda:0')\n"
     ]
    },
    {
     "ename": "AssertionError",
     "evalue": "",
     "output_type": "error",
     "traceback": [
      "\u001b[0;31m---------------------------------------------------------------------------\u001b[0m",
      "\u001b[0;31mAssertionError\u001b[0m                            Traceback (most recent call last)",
      "Cell \u001b[0;32mIn[1], line 35\u001b[0m\n\u001b[1;32m     32\u001b[0m \u001b[38;5;28mprint\u001b[39m(res3)\n\u001b[1;32m     33\u001b[0m \u001b[38;5;66;03m#print_res_shapes(res3[0]) \u001b[39;00m\n\u001b[0;32m---> 35\u001b[0m \u001b[38;5;28;01massert\u001b[39;00m torch\u001b[38;5;241m.\u001b[39mallclose(res2, res3, rtol\u001b[38;5;241m=\u001b[39m\u001b[38;5;241m1e-3\u001b[39m, atol\u001b[38;5;241m=\u001b[39m\u001b[38;5;241m2e-4\u001b[39m)\n\u001b[1;32m     37\u001b[0m \u001b[38;5;28mprint\u001b[39m(\u001b[38;5;124mf\u001b[39m\u001b[38;5;124m'\u001b[39m\u001b[38;5;124m----XXX----\u001b[39m\u001b[38;5;124m'\u001b[39m)\n\u001b[1;32m     39\u001b[0m \u001b[38;5;28;01mdef\u001b[39;00m \u001b[38;5;21mrecursive_assert\u001b[39m(a, b):\n",
      "\u001b[0;31mAssertionError\u001b[0m: "
     ]
    }
   ],
   "source": [
    "#### t_fwd3_t vs t_fwd3 on train=False (we can't do this testing for train=True due to different RNGs tooling)\n",
    "import torch\n",
    "torch.set_printoptions(precision=6)\n",
    "from torch.func import jacrev\n",
    "from model_torch_func import init_transformer_gpt2\n",
    "BS, H, N, D = 2, 2, 512, 64 # 1, 1, 3, 4 #2, 2, 5, 4\n",
    "vocab_size = 128\n",
    "layers = 2\n",
    "p_gen_aux = [42] + [43,44,45] * layers\n",
    "layers_params = init_transformer_gpt2(vocab_size, D, layers, H, 4*D, N)\n",
    "y= torch.randint(vocab_size, (BS, N+1), device=\"cuda\").to(torch.int32)\n",
    "mask = torch.ones((BS, N, N), dtype=torch.bool, device=\"cuda\")\n",
    "train = False\n",
    "\n",
    "for i, i_mask in enumerate(mask):\n",
    "    mask[i] = torch.tril(i_mask)\n",
    "    #mask[i] = torch.zeros_like(i_mask)\n",
    "# print(mask)\n",
    "\n",
    "from model_triton import t_gpt2_forward_with_acts, t_gpt2_forward_with_acts_t\n",
    "y_in = y[:, :-1]\n",
    "y_out = y[:, 1:]\n",
    "    \n",
    "res2, acts2 = t_gpt2_forward_with_acts(layers_params, y_in, mask, None, train, p_gen_aux)\n",
    "print(res2)\n",
    "#print(res2[1])\n",
    "#print_res_shapes(res2[0]) \n",
    "\n",
    "print(f'----X----')\n",
    "\n",
    "res3, acts3 = t_gpt2_forward_with_acts_t(layers_params, y_in, mask, None, train, p_gen_aux)\n",
    "print(res3)\n",
    "#print_res_shapes(res3[0]) \n",
    "\n",
    "assert torch.allclose(res2, res3, rtol=1e-3, atol=2e-4)\n",
    "\n",
    "print(f'----XXX----')\n",
    "\n",
    "def recursive_assert(a, b):\n",
    "    if isinstance(a, torch.Tensor):\n",
    "        assert isinstance(b, torch.Tensor)\n",
    "        torch.allclose(a, b, rtol=1e-3, atol=1e-4)\n",
    "    else:\n",
    "        assert not isinstance(b, torch.Tensor)\n",
    "        if len(a) != len(b):\n",
    "            return\n",
    "        assert len(a) == len(b), f'len(a) {len(a)}, len(b) {len(b)}'\n",
    "        for i, (ai, bi) in enumerate(zip(a, b)):\n",
    "            recursive_assert(ai, bi)\n",
    "recursive_assert(acts2, acts3)\n",
    "print(f'----XXX----')\n",
    "\n",
    "\n"
   ]
  },
  {
   "cell_type": "code",
   "execution_count": null,
   "id": "f763522b",
   "metadata": {},
   "outputs": [],
   "source": []
  }
 ],
 "metadata": {
  "kernelspec": {
   "display_name": "Python 3 (ipykernel)",
   "language": "python",
   "name": "python3"
  },
  "language_info": {
   "codemirror_mode": {
    "name": "ipython",
    "version": 3
   },
   "file_extension": ".py",
   "mimetype": "text/x-python",
   "name": "python",
   "nbconvert_exporter": "python",
   "pygments_lexer": "ipython3",
   "version": "3.10.12"
  }
 },
 "nbformat": 4,
 "nbformat_minor": 5
}
