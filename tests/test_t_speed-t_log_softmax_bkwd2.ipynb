{
 "cells": [
  {
   "cell_type": "code",
   "execution_count": 1,
   "id": "605c835d",
   "metadata": {},
   "outputs": [
    {
     "name": "stdout",
     "output_type": "stream",
     "text": [
      "----------------------------------------------  ------------  ------------  ------------  ------------  ------------  ------------  ------------  ------------  ------------  ------------  \n",
      "                                          Name    Self CPU %      Self CPU   CPU total %     CPU total  CPU time avg     Self CUDA   Self CUDA %    CUDA total  CUDA time avg    # of Calls  \n",
      "----------------------------------------------  ------------  ------------  ------------  ------------  ------------  ------------  ------------  ------------  ------------  ------------  \n",
      "                         Torch-Compiled Region        10.00%       6.194ms        12.90%       7.991ms      79.907us       0.000us         0.00%      61.758ms     617.577us           100  \n",
      "    triton_per_fused_add_exp_max_mul_sub_sum_0         1.43%     883.096us         2.61%       1.616ms      16.164us      61.758ms       100.00%      61.758ms     617.577us           100  \n",
      "                                       triton_         0.00%       0.000us         0.00%       0.000us       0.000us      61.758ms       100.00%      61.758ms     617.577us           100  \n",
      "                      TorchDynamo Cache Lookup         0.60%     374.373us         0.60%     374.373us       3.744us       0.000us         0.00%       0.000us       0.000us           100  \n",
      "                                cuLaunchKernel         1.18%     733.297us         1.18%     733.297us       7.333us       0.000us         0.00%       0.000us       0.000us           100  \n",
      "                         cudaStreamIsCapturing         0.01%       3.580us         0.01%       3.580us       3.580us       0.000us         0.00%       0.000us       0.000us             1  \n",
      "                                    cudaMalloc         0.29%     176.581us         0.29%     176.581us     176.581us       0.000us         0.00%       0.000us       0.000us             1  \n",
      "                         cudaDeviceSynchronize        86.50%      53.584ms        86.50%      53.584ms      53.584ms       0.000us         0.00%       0.000us       0.000us             1  \n",
      "----------------------------------------------  ------------  ------------  ------------  ------------  ------------  ------------  ------------  ------------  ------------  ------------  \n",
      "Self CPU time total: 61.949ms\n",
      "Self CUDA time total: 61.758ms\n",
      "\n",
      "JIT total 0.06202578544616699\n",
      "Naive total 0.4092273712158203\n"
     ]
    }
   ],
   "source": [
    "import torch\n",
    "from model_triton import *\n",
    "\n",
    "#dloss_dx = torch.randn((2, 512, 3072), device=\"cuda\")\n",
    "dloss_dx = torch.randn((8, 12, 512, 512), device=\"cuda\")\n",
    "#Two shapes are being used: [8, 12, 512, 512], and 4096, 35374\n",
    "aa = torch.randn((8, 12, 512, 512), device=\"cuda\")\n",
    "#aa = torch.randn((4096, 35374), device=\"cuda\")\n",
    "#aa = aa.view(-1)\n",
    "N = 100\n",
    "\n",
    "#def t_softmax_fwd(x):\n",
    "#    return torch.exp(t_log_softmax_fwd(x))\n",
    "#fn_naive = t_log_softmax_fwd\n",
    "fn_naive = t_log_softmax_bkwd2\n",
    "fn_jit = torch.compile(fn_naive)\n",
    "# burn it\n",
    "#fn_jit(aa) \n",
    "fn_jit(dloss_dx, aa) \n",
    "\n",
    "from torch.profiler import profile, record_function, ProfilerActivity, schedule\n",
    "activities = [ProfilerActivity.CPU, ProfilerActivity.CUDA]\n",
    "with profile(activities=activities, record_shapes=True) as prof:\n",
    "    for _ in range(N):\n",
    "        #result = fn_jit(aa)\n",
    "        result = fn_jit(dloss_dx, aa)\n",
    "print(prof.key_averages().table(sort_by=\"cuda_time_total\", row_limit=10))\n",
    "\n",
    "import time\n",
    "t0 = time.time()\n",
    "for _ in range(N):\n",
    "    #result = fn_jit(aa)\n",
    "    result = fn_jit(dloss_dx, aa)\n",
    "torch.cuda.synchronize()\n",
    "t1 = time.time()\n",
    "total = t1-t0\n",
    "print(f'JIT total', total)\n",
    "\n",
    "import time\n",
    "t0 = time.time()\n",
    "for _ in range(N):\n",
    "    #result = fn_naive(aa)\n",
    "    result = fn_naive(dloss_dx, aa)\n",
    "torch.cuda.synchronize()\n",
    "t1 = time.time()\n",
    "total = t1-t0\n",
    "print(f'Naive total', total)"
   ]
  },
  {
   "cell_type": "code",
   "execution_count": 2,
   "id": "c481c4d2",
   "metadata": {},
   "outputs": [],
   "source": [
    "# import triton\n",
    "# print(triton.runtime.driver.active.get_current_target())\n",
    "# device = \"cuda\" #triton.runtime.driver.active.get_active_torch_device()\n",
    "# properties = triton.runtime.driver.active.utils.get_device_properties(device)\n",
    "# See https://github.com/triton-lang/triton/issues/5628, and https://github.com/triton-lang/triton/issues/5388\n",
    "# properties"
   ]
  },
  {
   "cell_type": "code",
   "execution_count": 9,
   "id": "fb4a60eb",
   "metadata": {},
   "outputs": [
    {
     "name": "stdout",
     "output_type": "stream",
     "text": [
      "-------------------------  ------------  ------------  ------------  ------------  ------------  ------------  ------------  ------------  ------------  ------------  \n",
      "                     Name    Self CPU %      Self CPU   CPU total %     CPU total  CPU time avg     Self CUDA   Self CUDA %    CUDA total  CUDA time avg    # of Calls  \n",
      "-------------------------  ------------  ------------  ------------  ------------  ------------  ------------  ------------  ------------  ------------  ------------  \n",
      "    t_log_softmax_bkwd2_k         0.00%       0.000us         0.00%       0.000us       0.000us      62.580ms       100.00%      62.580ms     625.798us           100  \n",
      "            aten::reshape         0.79%     470.830us         1.52%     902.893us       3.010us       0.000us         0.00%       0.000us       0.000us           300  \n",
      "               aten::view         0.73%     432.063us         0.73%     432.063us       1.440us       0.000us         0.00%       0.000us       0.000us           300  \n",
      "         aten::empty_like         0.39%     229.562us         3.96%       2.359ms      23.590us       0.000us         0.00%       0.000us       0.000us           100  \n",
      "      aten::empty_strided         3.58%       2.129ms         3.58%       2.129ms      21.295us       0.000us         0.00%       0.000us       0.000us           100  \n",
      "           cuLaunchKernel         1.16%     692.005us         1.16%     692.005us       6.920us       0.000us         0.00%       0.000us       0.000us           100  \n",
      "    cudaDeviceSynchronize        93.36%      55.593ms        93.36%      55.593ms      55.593ms       0.000us         0.00%       0.000us       0.000us             1  \n",
      "-------------------------  ------------  ------------  ------------  ------------  ------------  ------------  ------------  ------------  ------------  ------------  \n",
      "Self CPU time total: 59.547ms\n",
      "Self CUDA time total: 62.580ms\n",
      "\n",
      "total 0.06301736831665039\n"
     ]
    }
   ],
   "source": [
    "def t_log_softmax_bkwd2(dloss_dx, x_logits):\n",
    "    indims = x_logits.shape\n",
    "    x_logits = x_logits.reshape((-1, x_logits.shape[-1]))\n",
    "    \n",
    "    BS, N = x_logits.shape\n",
    "    \n",
    "    x_logits = x_logits - torch.max(x_logits, axis=-1, keepdims=True)[0]\n",
    "    logsums = torch.logsumexp(x_logits, axis=-1, keepdims=True)\n",
    "    exp_logsums = torch.exp(logsums) # Q: is it going to be numerically stable?\n",
    "\n",
    "    # TODO XXX: Add comments on maths why we can do elementwise VJP here\n",
    "    jac = -torch.exp(x_logits)/exp_logsums\n",
    "    return dloss_dx + dloss_dx.sum(-1, keepdim=True)*jac.reshape(dloss_dx.shape)\n",
    "\n",
    "import triton\n",
    "import triton.language as tl\n",
    "\n",
    "# Note that the kernel assumes that n_cols < BLOCK_SIZE\n",
    "@triton.jit\n",
    "def t_log_softmax_bkwd2_k(dloss_dx_ptr,\n",
    "                    x_ptr,\n",
    "                    output_ptr,\n",
    "                    dloss_dx_row_stride,\n",
    "                    input_row_stride,\n",
    "                    output_row_stride,\n",
    "                    n_rows,\n",
    "                    n_cols,\n",
    "                    BLOCK_SIZE: tl.constexpr,\n",
    "                    num_stages: tl.constexpr,\n",
    "                    # NOTE: `constexpr` so it can be used as a shape value. <- TODO T: think about it\n",
    "                    ):\n",
    "    row_start = tl.program_id(0)\n",
    "    row_step = tl.num_programs(0)\n",
    "    for row_idx in tl.range(row_start, n_rows, row_step, num_stages): # TODO T: it fails if I add stages??\n",
    "        dloss_dx_row_start_ptr = dloss_dx_ptr + row_idx * dloss_dx_row_stride\n",
    "        x_row_start_ptr = x_ptr + row_idx * input_row_stride\n",
    "        offsets = tl.arange(0, BLOCK_SIZE)\n",
    "        mask = offsets < n_cols\n",
    "        dloss_dx = tl.load(dloss_dx_row_start_ptr + offsets, mask=mask, other=0) # TODO: WHAT SHOULD BE other here??\n",
    "        x = tl.load(x_row_start_ptr + offsets, mask=mask, other=-1e9)\n",
    "        x_minus_max = x - tl.max(x, axis=0)\n",
    "        nominator = tl.exp(x_minus_max)\n",
    "        denominator = tl.sum(nominator, axis=0)\n",
    "        jacobian = -nominator/denominator  \n",
    "        sum_dloss_dx = tl.sum(dloss_dx, axis=0)\n",
    "        output = dloss_dx + sum_dloss_dx * jacobian\n",
    "        output_row_start_ptr = output_ptr + row_idx * output_row_stride\n",
    "        tl.store(output_row_start_ptr + offsets, output, mask=mask)\n",
    "    \n",
    "def t_log_softmax_bkwd2_t(dloss_dx:torch.Tensor, x: torch.Tensor):\n",
    "    dloss_dx_2d = dloss_dx.reshape((-1, dloss_dx.shape[-1]))\n",
    "    x_2d = x.reshape((-1, x.shape[-1])) # TODO T: without this reshape, this func is 2times faster\n",
    "    n_rows, n_cols = x_2d.shape\n",
    "    BLOCK_SIZE = triton.next_power_of_2(n_cols) \n",
    "    output = torch.empty_like(x_2d)\n",
    "    # TODO T: The below numbers were tuned for A10 by choosing num_wraps=8\n",
    "    num_stages = 2\n",
    "    num_programs = min(n_rows, 560) \n",
    "    t_log_softmax_bkwd2_k[(num_programs,)](dloss_dx_2d, x_2d, output, dloss_dx_2d.stride(0), x_2d.stride(0), output.stride(0), n_rows, n_cols, BLOCK_SIZE=BLOCK_SIZE, num_stages=num_stages)\n",
    "    return output.reshape(dloss_dx.shape)\n",
    "\n",
    "fn_t = t_log_softmax_bkwd2_t\n",
    "\n",
    "from torch.profiler import profile, record_function, ProfilerActivity, schedule\n",
    "activities = [ProfilerActivity.CPU, ProfilerActivity.CUDA]\n",
    "with profile(activities=activities, record_shapes=True) as prof:\n",
    "    for _ in range(N):\n",
    "        #result = fn_t(aa)\n",
    "        result = fn_t(dloss_dx, aa)\n",
    "print(prof.key_averages().table(sort_by=\"cuda_time_total\", row_limit=20))\n",
    "\n",
    "import time\n",
    "t0 = time.time()\n",
    "for _ in range(N):\n",
    "    #result = fn_t(aa)\n",
    "    result = fn_t(dloss_dx, aa)\n",
    "torch.cuda.synchronize()\n",
    "t1 = time.time()\n",
    "total = t1-t0\n",
    "print(f'total', total)"
   ]
  },
  {
   "cell_type": "code",
   "execution_count": 4,
   "id": "31f66dab",
   "metadata": {},
   "outputs": [],
   "source": [
    "#res1 = fn_jit(aa)\n",
    "res1 = fn_jit(dloss_dx, aa)\n",
    "#res2 = fn_t(aa)\n",
    "res2 = fn_t(dloss_dx, aa)\n",
    "\n",
    "assert torch.allclose(res1, res2), (res1.shape, res2.shape, res1[0][0], res2[0][0])"
   ]
  },
  {
   "cell_type": "code",
   "execution_count": 10,
   "id": "186bf7f4",
   "metadata": {},
   "outputs": [
    {
     "data": {
      "image/png": "[encoded data removed]",
      "text/plain": [
       "<Figure size 640x480 with 1 Axes>"
      ]
     },
     "metadata": {},
     "output_type": "display_data"
    },
    {
     "name": "stdout",
     "output_type": "stream",
     "text": [
      "t_log_softmax_fwd:\n",
      "         N      Triton       Torch      naive\n",
      "0    256.0  392.039898  395.589537  96.376474\n",
      "1    384.0  420.102570  405.098894  83.103066\n",
      "2    512.0  434.492807  406.845308  83.290831\n",
      "3    640.0  441.815741  381.540824  84.297905\n",
      "4    768.0  452.492510  382.010363  85.136257\n",
      "5    896.0  457.076038  337.897369  85.622677\n",
      "6   1024.0  461.115230  334.083263  86.104122\n",
      "7   1152.0  458.293699  305.978210  86.539440\n",
      "8   1280.0  462.824835  300.992043  86.672543\n",
      "9   1408.0  459.999592  285.842987  86.991189\n",
      "10  1536.0  463.515904  283.024947  87.129623\n",
      "11  1664.0  465.641090  268.251892  87.357441\n",
      "12  1792.0  468.592439  268.119218  87.693132\n",
      "13  1920.0  469.979279  259.217714  87.789721\n",
      "14  2048.0  473.326523  258.779854  88.108227\n",
      "15  2176.0  470.718389  253.620378  87.942324\n",
      "16  2304.0  473.627404  255.759479  88.341091\n",
      "17  2432.0  472.197170  250.355334  88.121350\n",
      "18  2560.0  473.184092  252.790744  88.462542\n",
      "19  2688.0  472.561307  248.466509  88.469179\n",
      "20  2816.0  474.638001  251.504592  88.509609\n",
      "21  2944.0  474.948425  246.974739  88.661135\n",
      "22  3072.0  474.182690  247.273265  88.648684\n",
      "23  3200.0  475.541817  246.351253  88.795752\n",
      "24  3328.0  476.758807  249.162012  88.814506\n",
      "25  3456.0  475.281242  245.782757  88.828915\n",
      "26  3584.0  476.068994  248.882131  89.013965\n",
      "27  3712.0  474.839224  244.631748  88.895622\n",
      "28  3840.0  477.010905  247.596337  88.997794\n",
      "29  3968.0  476.271630  244.213974  89.118338\n",
      "30  4096.0  476.751865  244.518315  89.272794\n",
      "31  4224.0  476.275573  244.040624  89.179336\n",
      "32  4352.0  479.566119  245.886553  89.280745\n",
      "33  4480.0  477.385951  244.081924  89.148456\n",
      "34  4608.0  478.607566  247.141591  89.253452\n",
      "35  4736.0  479.089564  243.807896  89.217661\n",
      "36  4864.0  480.580482  247.060323  89.264767\n",
      "37  4992.0  478.633708  243.496715  89.227395\n",
      "38  5120.0  479.414801  245.510646  89.361183\n",
      "39  5248.0  480.188717  243.209262  89.343503\n",
      "40  5376.0  480.956126  246.670312  89.482516\n",
      "41  5504.0  479.599716  242.767755  89.436762\n",
      "42  5632.0  480.730873  245.449687  89.515233\n",
      "43  5760.0  481.777363  242.572872  89.353737\n",
      "44  5888.0  482.602343  245.449853  89.561524\n",
      "45  6016.0  481.229884  242.394848  82.656433\n",
      "46  6144.0  478.656112  244.050392  88.917635\n",
      "47  6272.0  481.497010  242.073319  89.545037\n"
     ]
    }
   ],
   "source": [
    "@triton.testing.perf_report(\n",
    "    triton.testing.Benchmark(\n",
    "        x_names=['N'],  # Argument names to use as an x-axis for the plot.\n",
    "        x_vals=[128 * i for i in range(2, 50)],  # Different possible values for `x_name`.\n",
    "        #x_log=True,  # x axis is logarithmic.\n",
    "        line_arg='provider',  # Argument name whose value corresponds to a different line in the plot.\n",
    "        line_vals=['triton', 'torch', 'naive'],  # Possible values for `line_arg`.\n",
    "        line_names=['Triton', 'Torch', 'naive'],  # Label name for the lines.\n",
    "        styles=[('blue', '-'), ('green', '-'), ('orange', '-')],  # Line styles.\n",
    "        ylabel='GB/s',  # Label name for the y-axis.\n",
    "        plot_name='t_log_softmax_fwd',  # Name for the plot. Used also as a file name for saving the plot.\n",
    "        args={'M':4096},  # Values for function arguments not in `x_names` and `y_name`.\n",
    "        # TODO T: Use real M i.e. \n",
    "    ))\n",
    "def benchmark(M, N, provider):\n",
    "    dloss_dx = torch.rand(M, N, device=\"cuda\", dtype=torch.float32)    \n",
    "    x = torch.rand(M, N, device=\"cuda\", dtype=torch.float32)\n",
    "    stream = getattr(torch, \"cuda\").Stream() # TODO XXX XXX: what is this stream about?\n",
    "    getattr(torch, \"cuda\").set_stream(stream)\n",
    "    quantiles = [0.5, 0.2, 0.8]\n",
    "    if provider == 'torch':\n",
    "        #ms, min_ms, max_ms = triton.testing.do_bench(lambda: fn_jit(x), quantiles=quantiles)\n",
    "        ms, min_ms, max_ms = triton.testing.do_bench(lambda: fn_jit(dloss_dx, x), quantiles=quantiles)\n",
    "    if provider == 'triton':\n",
    "        #ms, min_ms, max_ms = triton.testing.do_bench(lambda: fn_t(x), quantiles=quantiles)        \n",
    "        ms, min_ms, max_ms = triton.testing.do_bench(lambda: fn_t(dloss_dx, x), quantiles=quantiles)\n",
    "    if provider == 'naive':\n",
    "        #ms, min_ms, max_ms = triton.testing.do_bench(lambda: fn_naive(x), quantiles=quantiles)\n",
    "        ms, min_ms, max_ms = triton.testing.do_bench(lambda: fn_naive(dloss_dx, x), quantiles=quantiles)\n",
    "    gbps = lambda ms: 3 * x.numel() * x.element_size() * 1e-9 / (ms * 1e-3)\n",
    "    return gbps(ms), gbps(max_ms), gbps(min_ms)\n",
    "benchmark.run(print_data=True, show_plots=True)"
   ]
  },
  {
   "cell_type": "code",
   "execution_count": 11,
   "id": "fc4963da",
   "metadata": {},
   "outputs": [
    {
     "name": "stdout",
     "output_type": "stream",
     "text": [
      "_CudaDeviceProperties(name='NVIDIA A10G', major=8, minor=6, total_memory=22723MB, multi_processor_count=80, uuid=df82317b-d317-7368-eed6-8c8a4866f43b, L2_cache_size=6MB)\n"
     ]
    },
    {
     "data": {
      "text/plain": [
       "{'max_shared_mem': 101376,\n",
       " 'max_num_regs': 65536,\n",
       " 'multiprocessor_count': 80,\n",
       " 'warpSize': 32,\n",
       " 'sm_clock_rate': 1710000,\n",
       " 'mem_clock_rate': 6251000,\n",
       " 'mem_bus_width': 384}"
      ]
     },
     "execution_count": 11,
     "metadata": {},
     "output_type": "execute_result"
    }
   ],
   "source": [
    "import torch\n",
    "print(torch.cuda.get_device_properties(\"cuda\"))\n",
    "from triton.runtime import driver\n",
    "device = torch.cuda.current_device()\n",
    "properties = driver.active.utils.get_device_properties(device)\n",
    "NUM_SM = properties[\"multiprocessor_count\"]\n",
    "SIZE_SMEM = properties[\"max_shared_mem\"]\n",
    "NUM_REGS = properties[\"max_num_regs\"]\n",
    "WARP_SIZE = properties[\"warpSize\"] # Not 64 as A100\n",
    "properties"
   ]
  },
  {
   "cell_type": "code",
   "execution_count": 12,
   "id": "988a14dc",
   "metadata": {},
   "outputs": [
    {
     "name": "stdout",
     "output_type": "stream",
     "text": [
      "num_stages 2 num_warps 8\n",
      "n_regs 34 size_smem 4128\n",
      "occupancy 7 24\n",
      "num_programs 560\n"
     ]
    }
   ],
   "source": [
    "num_stages = 4 if SIZE_SMEM > 200000 else 2\n",
    "num_warps = 8\n",
    "print(f'num_stages', num_stages, 'num_warps', num_warps)\n",
    "x_2d = aa.reshape((-1, aa.shape[-1])) # TODO T: without this reshape, this func is 2times faster\n",
    "n_rows, n_cols = x_2d.shape\n",
    "BLOCK_SIZE = triton.next_power_of_2(n_cols) \n",
    "output = torch.empty_like(x_2d)\n",
    "\n",
    "dloss_dx_2d = torch.randn_like(x_2d)\n",
    "kernel = t_log_softmax_bkwd2_k.warmup(dloss_dx_2d, x_2d, output, dloss_dx_2d.stride(0), x_2d.stride(0), output.stride(0), n_rows, n_cols, BLOCK_SIZE=BLOCK_SIZE,\n",
    "                                    num_stages=num_stages, num_warps=num_warps, grid=(1, ))\n",
    "#kernel = t_log_softmax_fwd_k.warmup(x_2d, output, x_2d.stride(0), output.stride(0), n_rows, n_cols, BLOCK_SIZE=BLOCK_SIZE,\n",
    "#                                   num_stages=num_stages, num_warps=num_warps, grid=(1, ))\n",
    "kernel._init_handles()\n",
    "n_regs = kernel.n_regs\n",
    "size_smem = kernel.metadata.shared\n",
    "print(f'n_regs', n_regs, 'size_smem', size_smem)\n",
    "\n",
    "occupancy = NUM_REGS // (n_regs * WARP_SIZE * num_warps)\n",
    "print(f'occupancy', occupancy, SIZE_SMEM // size_smem)\n",
    "occupancy = min(occupancy, SIZE_SMEM // size_smem)\n",
    "num_programs = NUM_SM * occupancy\n",
    "print(f'num_programs', num_programs)"
   ]
  },
  {
   "cell_type": "code",
   "execution_count": 8,
   "id": "d5fb03a9",
   "metadata": {},
   "outputs": [
    {
     "data": {
      "text/plain": [
       "6176"
      ]
     },
     "execution_count": 8,
     "metadata": {},
     "output_type": "execute_result"
    }
   ],
   "source": [
    "32\n",
    "2080\n",
    "4128\n",
    "6176"
   ]
  }
 ],
 "metadata": {
  "kernelspec": {
   "display_name": "Python 3 (ipykernel)",
   "language": "python",
   "name": "python3"
  },
  "language_info": {
   "codemirror_mode": {
    "name": "ipython",
    "version": 3
   },
   "file_extension": ".py",
   "mimetype": "text/x-python",
   "name": "python",
   "nbconvert_exporter": "python",
   "pygments_lexer": "ipython3",
   "version": "3.9.18"
  }
 },
 "nbformat": 4,
 "nbformat_minor": 5
}
