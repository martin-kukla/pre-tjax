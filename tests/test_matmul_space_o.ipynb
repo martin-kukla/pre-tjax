{
 "cells": [
  {
   "cell_type": "code",
   "execution_count": 1,
   "id": "63c921bb",
   "metadata": {},
   "outputs": [
    {
     "name": "stdout",
     "output_type": "stream",
     "text": [
      "env: XLA_PYTHON_CLIENT_MEM_FRACTION=0.95\n"
     ]
    },
    {
     "name": "stderr",
     "output_type": "stream",
     "text": [
      "2024-05-28 10:06:49.986876: W tensorflow/compiler/tf2tensorrt/utils/py_utils.cc:38] TF-TRT Warning: Could not find TensorRT\n"
     ]
    },
    {
     "name": "stdout",
     "output_type": "stream",
     "text": [
      "About to multiply (38561, 512) with (512, 51200)\n",
      "(38561, 51200)\n"
     ]
    }
   ],
   "source": [
    "### import os\n",
    "#os.environ[\"XLA_PYTHON_CLIENT_PREALLOCATE\"]=\"false\"\n",
    "#os.environ[\"XLA_PYTHON_CLIENT_MEM_FRACTION\"]=\".90\"\n",
    "#os.environ[\"XLA_PYTHON_CLIENT_ALLOCATOR\"]=\"platform\"\n",
    "#%env XLA_PYTHON_CLIENT_PREALLOCATE=false\n",
    "%env XLA_PYTHON_CLIENT_MEM_FRACTION=0.95\n",
    "#%env XLA_PYTHON_CLIENT_ALLOCATOR=\"platform\"\n",
    "\n",
    "import jax \n",
    "import jax.numpy as jnp\n",
    "from jax import random\n",
    "\n",
    "with jax.profiler.trace(\"/lego/storage/output/\"):\n",
    "    with jax.disable_jit(): \n",
    "        #x = random.normal(random.PRNGKey(0), (512, 51200)) #-> 200MB\n",
    "        #params = random.normal(random.PRNGKey(0), (38561, 512)) #-> 79 MB\n",
    "        x = jnp.ones((512, 51200))\n",
    "        params = jnp.ones((38561, 512))\n",
    "        print(f'About to multiply {params.shape} with {x.shape}')\n",
    "        result = jnp.matmul(params, x)\n",
    "        #result = random.normal(random.PRNGKey(0), (38561,101200))\n",
    "        #result = jnp.ones((75000,100000))\n",
    "        print(result.shape)"
   ]
  },
  {
   "cell_type": "code",
   "execution_count": 2,
   "id": "bccc1a75",
   "metadata": {},
   "outputs": [],
   "source": [
    "aa = jax.lib.xla_bridge.get_backend()"
   ]
  },
  {
   "cell_type": "code",
   "execution_count": 3,
   "id": "63d96260",
   "metadata": {},
   "outputs": [
    {
     "data": {
      "text/plain": [
       "<jaxlib.xla_extension.Client at 0x7fb226d0fd70>"
      ]
     },
     "execution_count": 3,
     "metadata": {},
     "output_type": "execute_result"
    }
   ],
   "source": [
    "aa"
   ]
  },
  {
   "cell_type": "code",
   "execution_count": 4,
   "id": "0a31456f",
   "metadata": {},
   "outputs": [
    {
     "data": {
      "text/plain": [
       "(512, 51200)"
      ]
     },
     "execution_count": 4,
     "metadata": {},
     "output_type": "execute_result"
    }
   ],
   "source": [
    "aa.live_arrays()[2].shape"
   ]
  },
  {
   "cell_type": "code",
   "execution_count": 5,
   "id": "76440fba",
   "metadata": {},
   "outputs": [
    {
     "data": {
      "text/plain": [
       "'gpu'"
      ]
     },
     "execution_count": 5,
     "metadata": {},
     "output_type": "execute_result"
    }
   ],
   "source": [
    "jax.devices()[0].platform"
   ]
  },
  {
   "cell_type": "code",
   "execution_count": 6,
   "id": "6aef6a4f",
   "metadata": {},
   "outputs": [
    {
     "data": {
      "text/plain": [
       "dtype('float32')"
      ]
     },
     "execution_count": 6,
     "metadata": {},
     "output_type": "execute_result"
    }
   ],
   "source": [
    "x.dtype"
   ]
  },
  {
   "cell_type": "code",
   "execution_count": null,
   "id": "bfd5a94f",
   "metadata": {},
   "outputs": [],
   "source": []
  }
 ],
 "metadata": {
  "kernelspec": {
   "display_name": "Python 3 (ipykernel)",
   "language": "python",
   "name": "python3"
  },
  "language_info": {
   "codemirror_mode": {
    "name": "ipython",
    "version": 3
   },
   "file_extension": ".py",
   "mimetype": "text/x-python",
   "name": "python",
   "nbconvert_exporter": "python",
   "pygments_lexer": "ipython3",
   "version": "3.10.12"
  }
 },
 "nbformat": 4,
 "nbformat_minor": 5
}
