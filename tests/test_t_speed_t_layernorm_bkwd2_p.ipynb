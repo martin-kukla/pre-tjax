{
 "cells": [
  {
   "cell_type": "code",
   "execution_count": 1,
   "id": "92b29a13",
   "metadata": {},
   "outputs": [
    {
     "name": "stdout",
     "output_type": "stream",
     "text": [
      "---------------------------------  ------------  ------------  ------------  ------------  ------------  ------------  ------------  ------------  ------------  ------------  \n",
      "                             Name    Self CPU %      Self CPU   CPU total %     CPU total  CPU time avg     Self CUDA   Self CUDA %    CUDA total  CUDA time avg    # of Calls  \n",
      "---------------------------------  ------------  ------------  ------------  ------------  ------------  ------------  ------------  ------------  ------------  ------------  \n",
      "       Torch-Compiled Region: 0/0        92.11%       1.796ms        96.68%       1.885ms       1.885ms       0.000us         0.00%     119.326us     119.326us             1  \n",
      "          t_layernorm_bkwd2_p_k_0         0.72%      13.981us         1.05%      20.491us      20.491us     116.318us        97.48%     116.318us     116.318us             1  \n",
      "            t_layernorm_bkwd2_p_k         0.00%       0.000us         0.00%       0.000us       0.000us     116.318us        97.48%     116.318us     116.318us             1  \n",
      "    triton_poi_fused_zeros_like_0         1.76%      34.281us         3.51%      68.441us      34.221us       3.008us         2.52%       3.008us       1.504us             2  \n",
      "    triton_poi_fused_zeros_like_0         0.00%       0.000us         0.00%       0.000us       0.000us       3.008us         2.52%       3.008us       1.504us             2  \n",
      "         TorchDynamo Cache Lookup         1.56%      30.461us         1.56%      30.461us      30.461us       0.000us         0.00%       0.000us       0.000us             1  \n",
      "                   cuLaunchKernel         2.09%      40.670us         2.09%      40.670us      13.557us       0.000us         0.00%       0.000us       0.000us             3  \n",
      "            cudaDeviceSynchronize         1.76%      34.360us         1.76%      34.360us      34.360us       0.000us         0.00%       0.000us       0.000us             1  \n",
      "---------------------------------  ------------  ------------  ------------  ------------  ------------  ------------  ------------  ------------  ------------  ------------  \n",
      "Self CPU time total: 1.950ms\n",
      "Self CUDA time total: 119.326us\n",
      "\n",
      "JIT total 0.0006122589111328125\n",
      "Naive total 0.1339859962463379\n"
     ]
    }
   ],
   "source": [
    "import torch\n",
    "from model_triton import *\n",
    "\n",
    "dloss_dx = torch.randn((8, 512, 768), device=\"cuda\")\n",
    "#dloss_dx = torch.randn((1, 768), device=\"cuda\")\n",
    "#Two shapes are being used: [8, 12, 512, 512], and 4096, 35374\n",
    "layer_params = (torch.randn((768), device=\"cuda\"), torch.randn((768), device=\"cuda\"))\n",
    "#aa = torch.randn((2, 768), device=\"cuda\")\n",
    "aa = torch.randn((8, 512, 768), device=\"cuda\")\n",
    "#aa = torch.randn((1, 768), device=\"cuda\")\n",
    "#aa = torch.randn((4096, 35374), device=\"cuda\")\n",
    "#aa = aa.view(-1)\n",
    "N = 1 #100\n",
    "\n",
    "from functools import partial\n",
    "def fn_naive(dloss_dx, x):\n",
    "    return t_layernorm_bkwd2_p(dloss_dx, layer_params, x)\n",
    "fn_jit = torch.compile(fn_naive)\n",
    "# burn it\n",
    "#fn_jit(aa) \n",
    "fn_jit(dloss_dx, aa) \n",
    "\n",
    "from torch.profiler import profile, record_function, ProfilerActivity, schedule\n",
    "activities = [ProfilerActivity.CPU, ProfilerActivity.CUDA]\n",
    "with profile(activities=activities, record_shapes=True) as prof:\n",
    "    for _ in range(N):\n",
    "        #result = fn_jit(aa)\n",
    "        result = fn_jit(dloss_dx, aa)\n",
    "print(prof.key_averages().table(sort_by=\"cuda_time_total\", row_limit=10))\n",
    "\n",
    "import time\n",
    "t0 = time.time()\n",
    "for _ in range(N):\n",
    "    #result = fn_jit(aa)\n",
    "    result = fn_jit(dloss_dx, aa)\n",
    "torch.cuda.synchronize()\n",
    "t1 = time.time()\n",
    "total = t1-t0\n",
    "print(f'JIT total', total)\n",
    "\n",
    "import time\n",
    "t0 = time.time()\n",
    "for _ in range(N):\n",
    "    #result = fn_naive(aa)\n",
    "    result = fn_naive(dloss_dx, aa)\n",
    "torch.cuda.synchronize()\n",
    "t1 = time.time()\n",
    "total = t1-t0\n",
    "print(f'Naive total', total)"
   ]
  },
  {
   "cell_type": "code",
   "execution_count": 2,
   "id": "70ede499",
   "metadata": {},
   "outputs": [],
   "source": [
    "# import triton\n",
    "# print(triton.runtime.driver.active.get_current_target())\n",
    "# device = \"cuda\" #triton.runtime.driver.active.get_active_torch_device()\n",
    "# properties = triton.runtime.driver.active.utils.get_device_properties(device)\n",
    "# See https://github.com/triton-lang/triton/issues/5628, and https://github.com/triton-lang/triton/issues/5388\n",
    "# properties"
   ]
  },
  {
   "cell_type": "code",
   "execution_count": 2,
   "id": "dc37de6c",
   "metadata": {},
   "outputs": [
    {
     "name": "stdout",
     "output_type": "stream",
     "text": [
      "-------------------------------------------------------  ------------  ------------  ------------  ------------  ------------  ------------  ------------  ------------  ------------  ------------  \n",
      "                                                   Name    Self CPU %      Self CPU   CPU total %     CPU total  CPU time avg     Self CUDA   Self CUDA %    CUDA total  CUDA time avg    # of Calls  \n",
      "-------------------------------------------------------  ------------  ------------  ------------  ------------  ------------  ------------  ------------  ------------  ------------  ------------  \n",
      "                                  t_layernorm_bkwd2_p_k         0.00%       0.000us         0.00%       0.000us       0.000us      93.472us        96.91%      93.472us      93.472us             1  \n",
      "                                       aten::zeros_like        18.61%     811.503us        98.31%       4.287ms       2.144ms       0.000us         0.00%       2.976us       1.488us             2  \n",
      "                                            aten::zero_        16.28%     709.981us        17.92%     781.483us     390.741us       0.000us         0.00%       2.976us       1.488us             2  \n",
      "                                            aten::fill_         0.61%      26.770us         1.64%      71.502us      35.751us       2.976us         3.09%       2.976us       1.488us             2  \n",
      "void at::native::vectorized_elementwise_kernel<4, at...         0.00%       0.000us         0.00%       0.000us       0.000us       2.976us         3.09%       2.976us       1.488us             2  \n",
      "                                          aten::reshape         0.16%       6.830us         0.54%      23.650us      11.825us       0.000us         0.00%       0.000us       0.000us             2  \n",
      "                                             aten::view         0.39%      16.820us         0.39%      16.820us       8.410us       0.000us         0.00%       0.000us       0.000us             2  \n",
      "                                       aten::empty_like        23.97%       1.045ms        61.78%       2.694ms       1.347ms       0.000us         0.00%       0.000us       0.000us             2  \n",
      "                                    aten::empty_strided        37.81%       1.649ms        37.81%       1.649ms     824.358us       0.000us         0.00%       0.000us       0.000us             2  \n",
      "                                       cudaLaunchKernel         1.03%      44.732us         1.03%      44.732us      22.366us       0.000us         0.00%       0.000us       0.000us             2  \n",
      "                                         cuLaunchKernel         0.50%      21.600us         0.50%      21.600us      21.600us       0.000us         0.00%       0.000us       0.000us             1  \n",
      "                                  cudaDeviceSynchronize         0.65%      28.321us         0.65%      28.321us      28.321us       0.000us         0.00%       0.000us       0.000us             1  \n",
      "-------------------------------------------------------  ------------  ------------  ------------  ------------  ------------  ------------  ------------  ------------  ------------  ------------  \n",
      "Self CPU time total: 4.361ms\n",
      "Self CUDA time total: 96.448us\n",
      "\n",
      "total 0.0005567073822021484\n"
     ]
    }
   ],
   "source": [
    "import triton\n",
    "import triton.language as tl\n",
    "\n",
    "# Note that the kernel assumes that n_cols < BLOCK_SIZE\n",
    "# TODO T: investigate numerical differences from torch.func implementation\n",
    "@triton.jit\n",
    "def t_layernorm_bkwd2_p_k(dloss_dx_ptr,\n",
    "                    x_ptr,\n",
    "                    output1_ptr,\n",
    "                    output2_ptr,                          \n",
    "                    dloss_dx_stride,\n",
    "                    x_row_stride,                        \n",
    "                    n_rows,\n",
    "                    n_cols,\n",
    "                    BLOCK_SIZE: tl.constexpr,\n",
    "                    num_stages: tl.constexpr,\n",
    "                    ):\n",
    "    row_start = tl.program_id(0)\n",
    "    row_step = tl.num_programs(0)\n",
    "    \n",
    "    offsets = tl.arange(0, BLOCK_SIZE)\n",
    "    mask = offsets < n_cols\n",
    "    \n",
    "    # TODO T: how much this is being reused?\n",
    "    _output1 = tl.zeros([BLOCK_SIZE], dtype=tl.float32)\n",
    "    _output2 = tl.zeros([BLOCK_SIZE], dtype=tl.float32)\n",
    "        \n",
    "    for row_idx in tl.range(row_start, n_rows, row_step, num_stages):\n",
    "        dloss_dx_row_start_ptr = dloss_dx_ptr + row_idx * dloss_dx_stride\n",
    "        dloss_dx = tl.load(dloss_dx_row_start_ptr + offsets, mask=mask, other=0.0)\n",
    "        x_row_start_ptr = x_ptr + row_idx * x_row_stride    \n",
    "        x = tl.load(x_row_start_ptr + offsets, mask=mask, other=0.0)\n",
    "        \n",
    "        # compute mean and std for x\n",
    "        x_sum = tl.sum(x, axis=0)\n",
    "        x_mu = x_sum/ n_cols\n",
    "        x_minus_mu = x - x_mu\n",
    "        x_minus_mu2 = x_minus_mu * x_minus_mu\n",
    "        x_minus_mu2_sum = tl.sum(x_minus_mu2, axis=0)\n",
    "        x_sigma2 = x_minus_mu2_sum / (n_cols-1)\n",
    "        x_sigma = tl.sqrt_rn(x_sigma2)\n",
    "        \n",
    "        # normalize x\n",
    "        x_norm = x_minus_mu/x_sigma    \n",
    "        \n",
    "        _output1 += dloss_dx * x_norm\n",
    "        _output2 += dloss_dx\n",
    "    \n",
    "    # TODO T: Should we add parallel reduction strategy here: save to partial GROUP_SIZE_M sums first, before summing it up?\n",
    "    tl.atomic_add(output1_ptr + offsets, _output1, mask=mask)\n",
    "    tl.atomic_add(output2_ptr + offsets, _output2, mask=mask)    \n",
    "    \n",
    "def t_layernorm_bkwd2_p_t(dloss_dx:torch.Tensor, layer_params: torch.Tensor, x: torch.Tensor):\n",
    "    # TODO T: without this reshape, this func is 2times faster?\n",
    "    dloss_dx_2d = dloss_dx.reshape((-1, dloss_dx.shape[-1]))\n",
    "    x_2d = x.reshape((-1, x.shape[-1])) \n",
    "    n_rows, n_cols = x_2d.shape\n",
    "    BLOCK_SIZE = triton.next_power_of_2(n_cols) \n",
    "    output1 = torch.zeros_like(layer_params[0])\n",
    "    output2 = torch.zeros_like(layer_params[1])    \n",
    "    \n",
    "    # TODO T: The below numbers were tuned for A10 by choosing num_warps=8\n",
    "    num_warps = 8\n",
    "    num_stages = 2\n",
    "    num_programs = min(n_rows, 480) \n",
    "    t_layernorm_bkwd2_p_k[(num_programs,)](dloss_dx_2d, x_2d, output1, output2, \n",
    "                                       dloss_dx_2d.stride(0), x_2d.stride(0), n_rows, n_cols, \n",
    "                                       BLOCK_SIZE=BLOCK_SIZE, num_warps=num_warps, num_stages=num_stages)\n",
    "    return output1, output2 \n",
    "\n",
    "def fn_t(dloss_dx, x):\n",
    "    return t_layernorm_bkwd2_p_t(dloss_dx, layer_params, x)\n",
    "\n",
    "from torch.profiler import profile, record_function, ProfilerActivity, schedule\n",
    "activities = [ProfilerActivity.CPU, ProfilerActivity.CUDA]\n",
    "with profile(activities=activities, record_shapes=True) as prof:\n",
    "    for _ in range(N):\n",
    "        #result = fn_t(aa)\n",
    "        result = fn_t(dloss_dx, aa)\n",
    "print(prof.key_averages().table(sort_by=\"cuda_time_total\", row_limit=20))\n",
    "\n",
    "import time\n",
    "t0 = time.time()\n",
    "for _ in range(N):\n",
    "    #result = fn_t(aa)\n",
    "    result = fn_t(dloss_dx, aa)\n",
    "torch.cuda.synchronize()\n",
    "t1 = time.time()\n",
    "total = t1-t0\n",
    "print(f'total', total)"
   ]
  },
  {
   "cell_type": "code",
   "execution_count": 3,
   "id": "a8e154d4",
   "metadata": {},
   "outputs": [
    {
     "name": "stdout",
     "output_type": "stream",
     "text": [
      "res1 torch.Size([768]) tensor([  95.1687,  -25.0189,  -59.5536,   43.9867,   -1.0060,  -11.9509,\n",
      "          29.2568,   37.7534,  -32.6870,    1.8032,  -11.9498,   -9.6395,\n",
      "         -22.2823,   36.5493,  -50.3863,   -2.3215,   16.2722,  161.2084,\n",
      "           4.1640,  -92.0618,  143.4859,  -52.1562,  -28.1901,  -90.8348,\n",
      "          33.8247,   11.2040,   52.2683,   -7.9592, -109.8448,   -5.5466,\n",
      "          18.1443,    7.8433,  148.9875,   22.3122,   56.9081,    8.9039,\n",
      "          11.6286,   -2.4500,  -25.6496,   32.2235,   -0.3576, -130.9826,\n",
      "          53.0317,   65.4559,   84.4505,   41.9895, -100.6363,   11.3724,\n",
      "           4.3540,  -67.5684,  -54.6326,  -83.4864,   93.3548,   30.4224,\n",
      "         119.0786,  -46.5971,  -59.4636, -111.6934,  -91.6971,  -79.6589,\n",
      "         -68.4512,  112.8705,   87.5746,  -25.3938,  -30.1264,  -16.2564,\n",
      "         -90.3486,   69.9113,  -82.8568,   -4.0096,  -20.9173,  -65.0024,\n",
      "         -46.2275,   11.9035,   43.8028,   18.2876,  -44.1837,   39.7555,\n",
      "         -48.2667,   73.3372, -107.5729,   61.2763,   -2.3786, -105.2141,\n",
      "         -37.3913,    1.2168,  -71.4639,  -55.1916,   93.3209,   22.3747,\n",
      "          23.1898,   24.8817,  -71.3236,  -80.4180,   23.4042,   42.2785,\n",
      "           3.2289,  130.6844,  -41.9659,  -61.6106], device='cuda:0')\n",
      "res2 torch.Size([768]) tensor([  95.1687,  -25.0189,  -59.5535,   43.9867,   -1.0060,  -11.9508,\n",
      "          29.2568,   37.7534,  -32.6870,    1.8032,  -11.9498,   -9.6395,\n",
      "         -22.2823,   36.5493,  -50.3862,   -2.3215,   16.2721,  161.2085,\n",
      "           4.1640,  -92.0617,  143.4860,  -52.1562,  -28.1901,  -90.8348,\n",
      "          33.8248,   11.2041,   52.2683,   -7.9593, -109.8447,   -5.5465,\n",
      "          18.1443,    7.8433,  148.9875,   22.3122,   56.9081,    8.9039,\n",
      "          11.6286,   -2.4500,  -25.6496,   32.2235,   -0.3576, -130.9826,\n",
      "          53.0318,   65.4559,   84.4505,   41.9895, -100.6363,   11.3724,\n",
      "           4.3540,  -67.5684,  -54.6326,  -83.4864,   93.3547,   30.4224,\n",
      "         119.0785,  -46.5971,  -59.4636, -111.6934,  -91.6971,  -79.6589,\n",
      "         -68.4512,  112.8704,   87.5745,  -25.3938,  -30.1264,  -16.2564,\n",
      "         -90.3487,   69.9113,  -82.8568,   -4.0096,  -20.9172,  -65.0025,\n",
      "         -46.2276,   11.9034,   43.8028,   18.2876,  -44.1837,   39.7555,\n",
      "         -48.2667,   73.3372, -107.5728,   61.2763,   -2.3787, -105.2141,\n",
      "         -37.3914,    1.2168,  -71.4639,  -55.1917,   93.3209,   22.3747,\n",
      "          23.1898,   24.8817,  -71.3237,  -80.4180,   23.4042,   42.2786,\n",
      "           3.2289,  130.6844,  -41.9659,  -61.6106], device='cuda:0')\n"
     ]
    }
   ],
   "source": [
    "#res1 = fn_jit(aa)\n",
    "res1 = fn_jit(dloss_dx, aa)\n",
    "#res2 = fn_t(aa)\n",
    "res2 = fn_t(dloss_dx, aa)\n",
    "\n",
    "\n",
    "assert torch.allclose(res1[0], res2[0], atol=1e-2, rtol=0), (res1[0].shape, res2[0].shape, res1[0][:100], res2[0][:100])\n",
    "assert torch.allclose(res1[1], res2[1], atol=1e-2, rtol=0), (res1[1].shape, res2[1].shape, res1[1][:100], res2[1][:100])\n",
    "#assert torch.allclose(res1, res2), (res1[0], res2[0])\n",
    "print(f'res1', res1[0].shape, res1[0][:100])\n",
    "print(f'res2', res2[0].shape, res2[0][:100])"
   ]
  },
  {
   "cell_type": "code",
   "execution_count": 13,
   "id": "9a9918e6",
   "metadata": {},
   "outputs": [
    {
     "name": "stdout",
     "output_type": "stream",
     "text": [
      "tensor([  24.4056,  -40.0551,  -10.6713,   40.7296,  -93.1700,  -37.2333,\n",
      "         -16.0784,  -37.0965,   68.9446,  -34.1143,   -8.0013,   87.3877,\n",
      "           7.0199,   -1.1236,    1.1803,   -8.4736,   45.7447,  -49.6264,\n",
      "          47.9383,   56.9961,   30.9900,  -41.3200,  -68.3624,   14.3464,\n",
      "         -62.5568,   26.7465,  -68.7216,  109.0114,  -74.8925,   75.0364,\n",
      "          68.8853,  111.5215,   22.3440,  -43.0244,   76.2037,  -21.0002,\n",
      "         -52.6470,  -14.3917,  -32.5757,  -78.8080,  -60.3404,  -29.6343,\n",
      "          29.0757,  -14.0219,  -24.4524,   59.0663,   71.7406,  111.2338,\n",
      "         -30.9470,  -27.4130,   60.2276,  -16.4526,  -93.9371,   71.3842,\n",
      "          -5.0634,  -11.1472,   17.0944,   90.8599,  -57.7976,  -26.7024,\n",
      "         -33.0511,  -72.8697,  116.0010,   62.7593,  151.1949,  -53.2054,\n",
      "          86.0129,   18.3840,  -93.3876,   20.7278,  -20.6406, -144.1550,\n",
      "          30.9153,   36.3842,  -69.4481,  -25.1651,   89.7278,   17.8879,\n",
      "          10.0968, -110.9552,  -12.0548,   17.3168,   63.0861,   89.4908,\n",
      "          22.0224,  -32.2407,   87.2561, -101.6970,  -76.0362,   11.7128,\n",
      "         -10.7386,   -0.4022,  -99.0372,   15.9147,  102.4907,   -5.0265,\n",
      "          22.3404,   25.7066,    1.2557,    0.9275], device='cuda:0')\n"
     ]
    }
   ],
   "source": [
    "print(res1[1][:100])"
   ]
  },
  {
   "cell_type": "code",
   "execution_count": 14,
   "id": "41abe4b1",
   "metadata": {},
   "outputs": [
    {
     "name": "stdout",
     "output_type": "stream",
     "text": [
      "tensor([  24.4056,  -40.0551,  -10.6713,   40.7296,  -93.1700,  -37.2333,\n",
      "         -16.0784,  -37.0965,   68.9446,  -34.1143,   -8.0013,   87.3877,\n",
      "           7.0199,   -1.1236,    1.1803,   -8.4736,   45.7447,  -49.6264,\n",
      "          47.9383,   56.9961,   30.9900,  -41.3200,  -68.3623,   14.3464,\n",
      "         -62.5568,   26.7465,  -68.7216,  109.0113,  -74.8926,   75.0364,\n",
      "          68.8853,  111.5216,   22.3440,  -43.0244,   76.2037,  -21.0002,\n",
      "         -52.6470,  -14.3917,  -32.5757,  -78.8079,  -60.3405,  -29.6343,\n",
      "          29.0757,  -14.0219,  -24.4524,   59.0663,   71.7407,  111.2338,\n",
      "         -30.9470,  -27.4131,   60.2276,  -16.4526,  -93.9371,   71.3841,\n",
      "          -5.0634,  -11.1472,   17.0943,   90.8599,  -57.7976,  -26.7024,\n",
      "         -33.0511,  -72.8697,  116.0010,   62.7593,  151.1948,  -53.2054,\n",
      "          86.0128,   18.3840,  -93.3876,   20.7278,  -20.6406, -144.1550,\n",
      "          30.9153,   36.3843,  -69.4481,  -25.1651,   89.7277,   17.8879,\n",
      "          10.0968, -110.9551,  -12.0549,   17.3168,   63.0861,   89.4909,\n",
      "          22.0223,  -32.2407,   87.2562, -101.6970,  -76.0363,   11.7128,\n",
      "         -10.7386,   -0.4022,  -99.0372,   15.9147,  102.4907,   -5.0265,\n",
      "          22.3404,   25.7067,    1.2558,    0.9274], device='cuda:0')\n"
     ]
    }
   ],
   "source": [
    "print(res2[1][:100])"
   ]
  },
  {
   "cell_type": "code",
   "execution_count": 4,
   "id": "60d3b1c2",
   "metadata": {},
   "outputs": [
    {
     "data": {
      "image/png": "[encoded data removed]",
      "text/plain": [
       "<Figure size 640x480 with 1 Axes>"
      ]
     },
     "metadata": {},
     "output_type": "display_data"
    },
    {
     "name": "stdout",
     "output_type": "stream",
     "text": [
      "t_dropout_fwd:\n",
      "       N      Triton       Torch       naive\n",
      "0  768.0  356.173905  356.496821  357.036318\n"
     ]
    }
   ],
   "source": [
    "@triton.testing.perf_report(\n",
    "    triton.testing.Benchmark(\n",
    "        x_names=['N'],  # Argument names to use as an x-axis for the plot.\n",
    "        x_vals=[768], #[128 * i for i in range(2, 100)],  # Different possible values for `x_name`.\n",
    "        #x_log=True,  # x axis is logarithmic.\n",
    "        line_arg='provider',  # Argument name whose value corresponds to a different line in the plot.\n",
    "        line_vals=['triton', 'torch', 'naive'],  # Possible values for `line_arg`.\n",
    "        line_names=['Triton', 'Torch', 'naive'],  # Label name for the lines.\n",
    "        styles=[('blue', '-'), ('green', '-'), ('orange', '-')],  # Line styles.\n",
    "        ylabel='GB/s',  # Label name for the y-axis.\n",
    "        plot_name='t_dropout_fwd',  # Name for the plot. Used also as a file name for saving the plot.\n",
    "        args={'M':4096},  # Values for function arguments not in `x_names` and `y_name`.\n",
    "        # TODO T: Use real M i.e. \n",
    "    ))\n",
    "def benchmark(M, N, provider):\n",
    "    dloss_dx = torch.rand(M, N, device=\"cuda\", dtype=torch.float32)    \n",
    "    x = torch.rand(M, N, device=\"cuda\", dtype=torch.float32)\n",
    "    stream = getattr(torch, \"cuda\").Stream() # TODO XXX XXX: what is this stream about?\n",
    "    getattr(torch, \"cuda\").set_stream(stream)\n",
    "    quantiles = [0.5, 0.2, 0.8]\n",
    "    if provider == 'torch':\n",
    "        #ms, min_ms, max_ms = triton.testing.do_bench(lambda: fn_jit(x), quantiles=quantiles)\n",
    "        ms, min_ms, max_ms = triton.testing.do_bench(lambda: fn_jit(dloss_dx, x), quantiles=quantiles)\n",
    "    if provider == 'triton':\n",
    "        #ms, min_ms, max_ms = triton.testing.do_bench(lambda: fn_t(x), quantiles=quantiles)        \n",
    "        ms, min_ms, max_ms = triton.testing.do_bench(lambda: fn_t(dloss_dx, x), quantiles=quantiles)\n",
    "    if provider == 'naive':\n",
    "        #ms, min_ms, max_ms = triton.testing.do_bench(lambda: fn_naive(x), quantiles=quantiles)\n",
    "        ms, min_ms, max_ms = triton.testing.do_bench(lambda: fn_naive(dloss_dx, x), quantiles=quantiles)\n",
    "    gbps = lambda ms: 3 * x.numel() * x.element_size() * 1e-9 / (ms * 1e-3)\n",
    "    return gbps(ms), gbps(max_ms), gbps(min_ms)\n",
    "benchmark.run(print_data=True, show_plots=True)"
   ]
  },
  {
   "cell_type": "code",
   "execution_count": 5,
   "id": "b209b93a",
   "metadata": {},
   "outputs": [
    {
     "name": "stdout",
     "output_type": "stream",
     "text": [
      "_CudaDeviceProperties(name='NVIDIA A10G', major=8, minor=6, total_memory=22723MB, multi_processor_count=80, uuid=61ea3d2d-53a8-44f6-4844-0bcc29aa720b, L2_cache_size=6MB)\n"
     ]
    },
    {
     "data": {
      "text/plain": [
       "{'max_shared_mem': 101376,\n",
       " 'max_num_regs': 65536,\n",
       " 'multiprocessor_count': 80,\n",
       " 'warpSize': 32,\n",
       " 'sm_clock_rate': 1710000,\n",
       " 'mem_clock_rate': 6251000,\n",
       " 'mem_bus_width': 384}"
      ]
     },
     "execution_count": 5,
     "metadata": {},
     "output_type": "execute_result"
    }
   ],
   "source": [
    "import torch\n",
    "print(torch.cuda.get_device_properties(\"cuda\"))\n",
    "from triton.runtime import driver\n",
    "device = torch.cuda.current_device()\n",
    "properties = driver.active.utils.get_device_properties(device)\n",
    "NUM_SM = properties[\"multiprocessor_count\"]\n",
    "SIZE_SMEM = properties[\"max_shared_mem\"]\n",
    "NUM_REGS = properties[\"max_num_regs\"]\n",
    "WARP_SIZE = properties[\"warpSize\"] # Not 64 as A100\n",
    "properties"
   ]
  },
  {
   "cell_type": "code",
   "execution_count": 6,
   "id": "61c61a16",
   "metadata": {},
   "outputs": [
    {
     "name": "stdout",
     "output_type": "stream",
     "text": [
      "num_stages 2 num_warps 8\n",
      "n_regs 39 size_smem 8224\n",
      "occupancy 6 12\n",
      "num_programs 480\n"
     ]
    }
   ],
   "source": [
    "num_stages = 4 if SIZE_SMEM > 200000 else 2\n",
    "num_warps = 8\n",
    "dloss_dx_2d = dloss_dx.reshape((-1, dloss_dx.shape[-1]))\n",
    "x_2d = aa.reshape((-1, aa.shape[-1])) # TODO T: without this reshape, this func is 2times faster\n",
    "n_rows, n_cols = x_2d.shape\n",
    "BLOCK_SIZE = triton.next_power_of_2(n_cols) \n",
    "output1 = torch.zeros_like(layer_params[0])\n",
    "output2 = torch.zeros_like(layer_params[1]) \n",
    "print(f'num_stages', num_stages, 'num_warps', num_warps)\n",
    "\n",
    "kernel = t_layernorm_bkwd2_p_k.warmup(dloss_dx_2d, x_2d, output1, output2, \n",
    "                                        dloss_dx_2d.stride(0), x_2d.stride(0), \n",
    "                                        n_rows, n_cols, BLOCK_SIZE=BLOCK_SIZE,\n",
    "                                        num_stages=num_stages, num_warps=num_warps, grid=(1, ))\n",
    "kernel._init_handles()\n",
    "n_regs = kernel.n_regs\n",
    "size_smem = kernel.metadata.shared\n",
    "print(f'n_regs', n_regs, 'size_smem', size_smem)\n",
    "\n",
    "occupancy = NUM_REGS // (n_regs * WARP_SIZE * num_warps)\n",
    "size_smem = max(1, size_smem) # accounts for divisiion by 0 below. size_smem=0 is possible\n",
    "print(f'occupancy', occupancy, SIZE_SMEM // size_smem)\n",
    "occupancy = min(occupancy, SIZE_SMEM // size_smem)\n",
    "num_programs = NUM_SM * occupancy\n",
    "print(f'num_programs', num_programs)"
   ]
  },
  {
   "cell_type": "code",
   "execution_count": null,
   "id": "09068a16",
   "metadata": {},
   "outputs": [],
   "source": [
    "32\n",
    "2080\n",
    "4128\n",
    "6176"
   ]
  }
 ],
 "metadata": {
  "kernelspec": {
   "display_name": "Python 3 (ipykernel)",
   "language": "python",
   "name": "python3"
  },
  "language_info": {
   "codemirror_mode": {
    "name": "ipython",
    "version": 3
   },
   "file_extension": ".py",
   "mimetype": "text/x-python",
   "name": "python",
   "nbconvert_exporter": "python",
   "pygments_lexer": "ipython3",
   "version": "3.10.12"
  }
 },
 "nbformat": 4,
 "nbformat_minor": 5
}
