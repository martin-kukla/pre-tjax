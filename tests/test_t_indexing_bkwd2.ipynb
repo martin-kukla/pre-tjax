{
 "cells": [
  {
   "cell_type": "code",
   "execution_count": 1,
   "id": "ff210d4f",
   "metadata": {},
   "outputs": [
    {
     "data": {
      "text/plain": [
       "(tensor([[ 0.8921,  1.6637,  2.3464,  ..., -1.3423,  2.0934, -3.0515],\n",
       "         [ 2.2695,  0.1287,  1.8906,  ...,  0.0890, -1.7803,  0.2788],\n",
       "         [ 0.5469,  1.2861,  0.1816,  ...,  1.1836, -0.5928,  0.1455],\n",
       "         ...,\n",
       "         [ 0.0288, -0.5015,  0.6064,  ..., -0.2993, -0.3796,  0.0148],\n",
       "         [-2.4434,  2.9639, -3.3328,  ...,  1.2504,  0.1337,  3.9976],\n",
       "         [ 0.0000,  0.0000,  0.0000,  ...,  0.0000,  0.0000,  0.0000]],\n",
       "        device='cuda:0'),)"
      ]
     },
     "execution_count": 1,
     "metadata": {},
     "output_type": "execute_result"
    }
   ],
   "source": [
    "import torch\n",
    "from model_triton import t_indexing_bkwd2\n",
    "\n",
    "BS, N, D, V = 8, 512, 768, 4377\n",
    "dloss_dx = torch.randn((BS, N, D), device=\"cuda\")\n",
    "layer_params0 = torch.randn((V, D), device=\"cuda\")\n",
    "x = torch.randint(V, (BS, N), device=\"cuda\")\n",
    "\n",
    "res1 = t_indexing_bkwd2(dloss_dx, (layer_params0, ), x)\n",
    "res1\n"
   ]
  },
  {
   "cell_type": "code",
   "execution_count": 2,
   "id": "631e7c42",
   "metadata": {},
   "outputs": [],
   "source": [
    "def n_t_indexing_bkwd2(dloss_dx, layer_params, x, coef=1):\n",
    "    x_1d = x.reshape(-1)\n",
    "    D = dloss_dx.shape[-1]\n",
    "    dloss_dx_2d = dloss_dx.reshape((-1, D))\n",
    "    \n",
    "    output = torch.zeros(layer_params[0].shape, device=x.device)\n",
    "    indices = x_1d.unsqueeze(1).expand(x_1d.shape[0], D).to(torch.int64) # weirdly I need this expand here\n",
    "    output.scatter_add_(0, indices,  dloss_dx_2d)\n",
    "    return (coef*output, )\n",
    "\n",
    "res2 = n_t_indexing_bkwd2(dloss_dx, (layer_params0, ), x)"
   ]
  },
  {
   "cell_type": "code",
   "execution_count": 3,
   "id": "21abd400",
   "metadata": {},
   "outputs": [
    {
     "ename": "AssertionError",
     "evalue": "atol=1e-3 not working",
     "output_type": "error",
     "traceback": [
      "\u001b[0;31m---------------------------------------------------------------------------\u001b[0m",
      "\u001b[0;31mAssertionError\u001b[0m                            Traceback (most recent call last)",
      "Cell \u001b[0;32mIn[3], line 2\u001b[0m\n\u001b[1;32m      1\u001b[0m \u001b[38;5;28;01massert\u001b[39;00m torch\u001b[38;5;241m.\u001b[39mallclose(res1[\u001b[38;5;241m0\u001b[39m], res2[\u001b[38;5;241m0\u001b[39m], atol\u001b[38;5;241m=\u001b[39m\u001b[38;5;241m1e-2\u001b[39m, rtol\u001b[38;5;241m=\u001b[39m\u001b[38;5;241m0\u001b[39m), (res1[\u001b[38;5;241m0\u001b[39m]\u001b[38;5;241m.\u001b[39mshape, res2[\u001b[38;5;241m0\u001b[39m]\u001b[38;5;241m.\u001b[39mshape, res1[\u001b[38;5;241m0\u001b[39m][:\u001b[38;5;241m10\u001b[39m,:\u001b[38;5;241m10\u001b[39m], res2[\u001b[38;5;241m0\u001b[39m][:\u001b[38;5;241m10\u001b[39m,:\u001b[38;5;241m10\u001b[39m])\n\u001b[0;32m----> 2\u001b[0m \u001b[38;5;28;01massert\u001b[39;00m torch\u001b[38;5;241m.\u001b[39mallclose(res1[\u001b[38;5;241m0\u001b[39m], res2[\u001b[38;5;241m0\u001b[39m], atol\u001b[38;5;241m=\u001b[39m\u001b[38;5;241m1e-3\u001b[39m, rtol\u001b[38;5;241m=\u001b[39m\u001b[38;5;241m0\u001b[39m), \u001b[38;5;124m\"\u001b[39m\u001b[38;5;124matol=1e-3 not working\u001b[39m\u001b[38;5;124m\"\u001b[39m\n",
      "\u001b[0;31mAssertionError\u001b[0m: atol=1e-3 not working"
     ]
    }
   ],
   "source": [
    "assert torch.allclose(res1[0], res2[0], atol=1e-2, rtol=0), (res1[0].shape, res2[0].shape, res1[0][:10,:10], res2[0][:10,:10])\n",
    "assert torch.allclose(res1[0], res2[0], atol=1e-3, rtol=0), \"atol=1e-3 not working\""
   ]
  },
  {
   "cell_type": "code",
   "execution_count": null,
   "id": "b60c7408",
   "metadata": {},
   "outputs": [],
   "source": []
  }
 ],
 "metadata": {
  "kernelspec": {
   "display_name": "Python 3 (ipykernel)",
   "language": "python",
   "name": "python3"
  },
  "language_info": {
   "codemirror_mode": {
    "name": "ipython",
    "version": 3
   },
   "file_extension": ".py",
   "mimetype": "text/x-python",
   "name": "python",
   "nbconvert_exporter": "python",
   "pygments_lexer": "ipython3",
   "version": "3.10.12"
  }
 },
 "nbformat": 4,
 "nbformat_minor": 5
}
