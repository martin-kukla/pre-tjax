{
 "cells": [
  {
   "cell_type": "code",
   "execution_count": 2,
   "id": "7833fc00",
   "metadata": {},
   "outputs": [
    {
     "name": "stdout",
     "output_type": "stream",
     "text": [
      "---------------------------------------  ------------  ------------  ------------  ------------  ------------  ------------  ------------  ------------  ------------  ------------  \n",
      "                                   Name    Self CPU %      Self CPU   CPU total %     CPU total  CPU time avg     Self CUDA   Self CUDA %    CUDA total  CUDA time avg    # of Calls  \n",
      "---------------------------------------  ------------  ------------  ------------  ------------  ------------  ------------  ------------  ------------  ------------  ------------  \n",
      "                  Torch-Compiled Region        68.03%       5.321ms        97.05%       7.591ms      75.910us       0.000us         0.00%       5.975ms      59.750us           100  \n",
      "    triton_poi_fused_add_mul_pow_tanh_0        18.63%       1.457ms        26.69%       2.088ms      20.880us       5.382ms       100.00%       5.921ms      59.210us           100  \n",
      "                         triton__0d1d2d         0.00%       0.000us         0.00%       0.000us       0.000us       5.382ms       100.00%       5.382ms      53.820us           100  \n",
      "                         cuLaunchKernel         8.07%     631.000us         8.07%     631.000us       6.310us     539.000us        10.01%     539.000us       5.390us           100  \n",
      "                             cudaMalloc         2.28%     178.000us         2.28%     178.000us     178.000us      54.000us         1.00%      54.000us      54.000us             1  \n",
      "               TorchDynamo Cache Lookup         2.84%     222.000us         2.84%     222.000us       2.220us       0.000us         0.00%       0.000us       0.000us           100  \n",
      "                  cudaStreamIsCapturing         0.05%       4.000us         0.05%       4.000us       4.000us       0.000us         0.00%       0.000us       0.000us             1  \n",
      "                  cudaDeviceSynchronize         0.12%       9.000us         0.12%       9.000us       9.000us       0.000us         0.00%       0.000us       0.000us             1  \n",
      "---------------------------------------  ------------  ------------  ------------  ------------  ------------  ------------  ------------  ------------  ------------  ------------  \n",
      "Self CPU time total: 7.822ms\n",
      "Self CUDA time total: 5.382ms\n",
      "\n",
      "JIT total 0.005834341049194336\n",
      "Naive total 0.0957937240600586\n"
     ]
    },
    {
     "name": "stderr",
     "output_type": "stream",
     "text": [
      "STAGE:2025-01-22 09:12:06 69150:69150 ActivityProfilerController.cpp:314] Completed Stage: Warm Up\n",
      "STAGE:2025-01-22 09:12:06 69150:69150 ActivityProfilerController.cpp:320] Completed Stage: Collection\n",
      "STAGE:2025-01-22 09:12:06 69150:69150 ActivityProfilerController.cpp:324] Completed Stage: Post Processing\n"
     ]
    }
   ],
   "source": [
    "import torch\n",
    "from model_triton import *\n",
    "\n",
    "aa = torch.randn((2, 512, 3072), device=\"cuda\")\n",
    "#aa = aa.view(-1)\n",
    "N = 100\n",
    "\n",
    "t_gelu_fwd_jit = torch.compile(t_gelu_fwd)\n",
    "t_gelu_fwd_jit(aa) # burn it\n",
    "\n",
    "from torch.profiler import profile, record_function, ProfilerActivity, schedule\n",
    "activities = [ProfilerActivity.CPU, ProfilerActivity.CUDA]\n",
    "with profile(activities=activities, record_shapes=True) as prof:\n",
    "    for _ in range(N):\n",
    "        result = t_gelu_fwd_jit(aa)\n",
    "print(prof.key_averages().table(sort_by=\"cuda_time_total\", row_limit=10))\n",
    "\n",
    "import time\n",
    "t0 = time.time()\n",
    "for _ in range(N):\n",
    "    result = t_gelu_fwd_jit(aa)\n",
    "torch.cuda.synchronize()\n",
    "t1 = time.time()\n",
    "total = t1-t0\n",
    "print(f'JIT total', total)\n",
    "\n",
    "t0 = time.time()\n",
    "for _ in range(N):\n",
    "    result = t_gelu_fwd(aa)\n",
    "torch.cuda.synchronize()\n",
    "t1 = time.time()\n",
    "total = t1-t0\n",
    "print(f'Naive total', total)"
   ]
  },
  {
   "cell_type": "code",
   "execution_count": 31,
   "id": "cea21165",
   "metadata": {},
   "outputs": [
    {
     "name": "stderr",
     "output_type": "stream",
     "text": [
      "STAGE:2025-01-21 09:38:00 63031:63031 ActivityProfilerController.cpp:314] Completed Stage: Warm Up\n"
     ]
    },
    {
     "name": "stdout",
     "output_type": "stream",
     "text": [
      "-------------------------  ------------  ------------  ------------  ------------  ------------  ------------  ------------  ------------  ------------  ------------  \n",
      "                     Name    Self CPU %      Self CPU   CPU total %     CPU total  CPU time avg     Self CUDA   Self CUDA %    CUDA total  CUDA time avg    # of Calls  \n",
      "-------------------------  ------------  ------------  ------------  ------------  ------------  ------------  ------------  ------------  ------------  ------------  \n",
      "      t_gelu_fwd_k_0d1d2d         0.00%       0.000us         0.00%       0.000us       0.000us       5.357ms       100.00%       5.357ms      53.570us           100  \n",
      "               aten::view         6.05%     261.000us         6.05%     261.000us       1.305us       0.000us         0.00%       0.000us       0.000us           200  \n",
      "         aten::empty_like         5.01%     216.000us        63.98%       2.758ms      27.580us       0.000us         0.00%       0.000us       0.000us           100  \n",
      "      aten::empty_strided        59.13%       2.549ms        59.13%       2.549ms      25.490us       0.000us         0.00%       0.000us       0.000us           100  \n",
      "           cuLaunchKernel        24.94%       1.075ms        24.94%       1.075ms      10.750us       0.000us         0.00%       0.000us       0.000us           100  \n",
      "            aten::reshape         4.66%     201.000us         9.51%     410.000us       4.100us       0.000us         0.00%       0.000us       0.000us           100  \n",
      "    cudaDeviceSynchronize         0.21%       9.000us         0.21%       9.000us       9.000us       0.000us         0.00%       0.000us       0.000us             1  \n",
      "-------------------------  ------------  ------------  ------------  ------------  ------------  ------------  ------------  ------------  ------------  ------------  \n",
      "Self CPU time total: 4.311ms\n",
      "Self CUDA time total: 5.357ms\n",
      "\n",
      "total 0.011735916137695312\n"
     ]
    },
    {
     "name": "stderr",
     "output_type": "stream",
     "text": [
      "STAGE:2025-01-21 09:38:00 63031:63031 ActivityProfilerController.cpp:320] Completed Stage: Collection\n",
      "STAGE:2025-01-21 09:38:00 63031:63031 ActivityProfilerController.cpp:324] Completed Stage: Post Processing\n"
     ]
    }
   ],
   "source": [
    "def t_gelu_fwd(x):\n",
    "    k = math.sqrt(2/math.pi)\n",
    "    return 0.5 * x * (1 + torch.tanh(k * (x + 0.044715 * torch.pow(x,3))))\n",
    "\n",
    "import triton\n",
    "import triton.language as tl\n",
    "\n",
    "# TODO T: explore using tl.erf for implementing this\n",
    "@triton.jit\n",
    "def tanh_k(x):\n",
    "    return 2 * tl.sigmoid(2 * x) - 1\n",
    "\n",
    "# TODO T: Do it in-place?\n",
    "@triton.jit\n",
    "def t_gelu_fwd_k(x_ptr,\n",
    "               output_ptr,\n",
    "               n_elements,\n",
    "               BLOCK_SIZE: tl.constexpr,\n",
    "               # NOTE: `constexpr` so it can be used as a shape value. <- TODO T: think about it\n",
    "               ):\n",
    "    pid = tl.program_id(axis=0)  \n",
    "    block_start = pid * BLOCK_SIZE\n",
    "    offsets = block_start + tl.arange(0, BLOCK_SIZE)\n",
    "    mask = offsets < n_elements\n",
    "    x = tl.load(x_ptr + offsets, mask=mask)\n",
    "    k = tl.sqrt(2/math.pi) # TODO T: compute one as contant outside\n",
    "    output = 0.5 * x * (1 + tanh_k(k * (x + 0.044715 * x * x * x)))\n",
    "    tl.store(output_ptr + offsets, output, mask=mask)\n",
    "    \n",
    "def t_gelu_fwd_t(x: torch.Tensor):\n",
    "    x_1d = x.view(-1)  # TODO T: do it in 3D instead\n",
    "    output = torch.empty_like(x_1d)\n",
    "    n_elements = output.numel()\n",
    "    grid = lambda meta: (triton.cdiv(n_elements, meta['BLOCK_SIZE']), )\n",
    "    t_gelu_fwd_k[grid](x_1d, output, n_elements, BLOCK_SIZE=1024)\n",
    "    return output.reshape(x.shape)\n",
    "\n",
    "from torch.profiler import profile, record_function, ProfilerActivity, schedule\n",
    "activities = [ProfilerActivity.CPU, ProfilerActivity.CUDA]\n",
    "with profile(activities=activities, record_shapes=True) as prof:\n",
    "    for _ in range(N):\n",
    "        result = t_gelu_fwd_t(aa)\n",
    "print(prof.key_averages().table(sort_by=\"cuda_time_total\", row_limit=20))\n",
    "\n",
    "import time\n",
    "t0 = time.time()\n",
    "for _ in range(N):\n",
    "    result = t_gelu_fwd_t(aa)\n",
    "torch.cuda.synchronize()\n",
    "t1 = time.time()\n",
    "total = t1-t0\n",
    "print(f'total', total)"
   ]
  },
  {
   "cell_type": "code",
   "execution_count": 32,
   "id": "4b29a277",
   "metadata": {},
   "outputs": [
    {
     "name": "stdout",
     "output_type": "stream",
     "text": [
      "res1 torch.Size([2, 512, 3072]) tensor([[[ 0.6789, -0.0586,  0.4063,  ...,  0.1945, -0.1517, -0.1170],\n",
      "         [-0.0914,  1.1583, -0.1605,  ...,  1.2442, -0.1117, -0.1700],\n",
      "         [-0.1394,  0.3071, -0.1177,  ..., -0.1408,  0.7008, -0.0734],\n",
      "         ...,\n",
      "         [-0.0880, -0.1635, -0.1700,  ...,  0.8145,  0.3563,  0.4697],\n",
      "         [-0.1653, -0.1259,  0.5298,  ...,  0.8555,  0.2012,  0.2221],\n",
      "         [ 1.5287, -0.1047, -0.0285,  ...,  0.0782,  1.2263,  1.0094]],\n",
      "\n",
      "        [[-0.0317,  1.2300, -0.1502,  ..., -0.1697, -0.1401,  2.1861],\n",
      "         [ 0.5059,  0.2916,  0.5464,  ..., -0.0897, -0.1530,  0.0278],\n",
      "         [-0.0764, -0.0186, -0.1266,  ..., -0.0849, -0.1523, -0.0934],\n",
      "         ...,\n",
      "         [ 0.1284, -0.1610,  0.4450,  ..., -0.1230,  0.0881, -0.0063],\n",
      "         [-0.0637, -0.0071, -0.1636,  ...,  0.4173,  0.8349, -0.1183],\n",
      "         [ 0.1325, -0.0743, -0.0414,  ..., -0.0943, -0.1619, -0.1631]]],\n",
      "       device='cuda:0')\n",
      "res2 torch.Size([2, 512, 3072]) tensor([[[ 0.6789, -0.0586,  0.4063,  ...,  0.1945, -0.1517, -0.1170],\n",
      "         [-0.0914,  1.1583, -0.1605,  ...,  1.2442, -0.1117, -0.1700],\n",
      "         [-0.1394,  0.3071, -0.1177,  ..., -0.1408,  0.7008, -0.0734],\n",
      "         ...,\n",
      "         [-0.0880, -0.1635, -0.1700,  ...,  0.8145,  0.3563,  0.4697],\n",
      "         [-0.1653, -0.1259,  0.5298,  ...,  0.8555,  0.2012,  0.2221],\n",
      "         [ 1.5287, -0.1047, -0.0285,  ...,  0.0782,  1.2263,  1.0094]],\n",
      "\n",
      "        [[-0.0317,  1.2300, -0.1502,  ..., -0.1697, -0.1401,  2.1861],\n",
      "         [ 0.5059,  0.2916,  0.5464,  ..., -0.0897, -0.1530,  0.0278],\n",
      "         [-0.0764, -0.0186, -0.1266,  ..., -0.0849, -0.1523, -0.0934],\n",
      "         ...,\n",
      "         [ 0.1284, -0.1610,  0.4450,  ..., -0.1230,  0.0881, -0.0063],\n",
      "         [-0.0637, -0.0071, -0.1636,  ...,  0.4173,  0.8349, -0.1183],\n",
      "         [ 0.1325, -0.0743, -0.0414,  ..., -0.0943, -0.1619, -0.1631]]],\n",
      "       device='cuda:0')\n"
     ]
    }
   ],
   "source": [
    "res1 = t_gelu_fwd_jit(aa)\n",
    "print(f'res1', res1.shape, res1)\n",
    "res2 = t_gelu_fwd_t(aa)\n",
    "print(f'res2', res2.shape, res2)"
   ]
  },
  {
   "cell_type": "code",
   "execution_count": 33,
   "id": "c711d549",
   "metadata": {},
   "outputs": [
    {
     "data": {
      "image/png": "[encoded data removed]",
      "text/plain": [
       "<Figure size 640x480 with 1 Axes>"
      ]
     },
     "metadata": {},
     "output_type": "display_data"
    },
    {
     "name": "stdout",
     "output_type": "stream",
     "text": [
      "t_gelu_fwd:\n",
      "           size      Triton       Torch       naive\n",
      "0        4096.0   10.138615   11.294117    2.780090\n",
      "1        8192.0   20.344371   22.423358    5.525180\n",
      "2       16384.0   40.421054   43.267604   10.971428\n",
      "3       32768.0   73.580836   80.842109   20.479999\n",
      "4       65536.0  135.779009  142.883721   37.693251\n",
      "5      131072.0  227.555555  243.326738   66.601628\n",
      "6      262144.0  361.411758  343.120420  112.219181\n",
      "7      524288.0  518.754611  478.364979  127.501947\n",
      "8     1048576.0  594.880460  574.877170   96.459218\n",
      "9     2097152.0  655.359969  638.337688   76.456546\n",
      "10    4194304.0  682.370473  686.840182   78.949133\n",
      "11    8388608.0  694.727912  710.898994   79.911798\n",
      "12   16777216.0  707.501390  720.835903   80.582210\n",
      "13   33554432.0  714.005113  728.219958   80.823414\n",
      "14   67108864.0  717.424781  737.416810   81.109431\n",
      "15  134217728.0  717.481014  736.596582   81.210072\n"
     ]
    }
   ],
   "source": [
    "@triton.testing.perf_report(\n",
    "    triton.testing.Benchmark(\n",
    "        x_names=['size'],  # Argument names to use as an x-axis for the plot.\n",
    "        x_vals=[2**i for i in range(12, 28, 1)],  # Different possible values for `x_name`.\n",
    "        x_log=True,  # x axis is logarithmic.\n",
    "        line_arg='provider',  # Argument name whose value corresponds to a different line in the plot.\n",
    "        line_vals=['triton', 'torch', 'naive'],  # Possible values for `line_arg`.\n",
    "        line_names=['Triton', 'Torch', 'naive'],  # Label name for the lines.\n",
    "        styles=[('blue', '-'), ('green', '-'), ('orange', '-')],  # Line styles.\n",
    "        ylabel='GB/s',  # Label name for the y-axis.\n",
    "        plot_name='t_gelu_fwd',  # Name for the plot. Used also as a file name for saving the plot.\n",
    "        args={},  # Values for function arguments not in `x_names` and `y_name`.\n",
    "    ))\n",
    "def benchmark(size, provider):\n",
    "    x = torch.rand(size, device=\"cuda\", dtype=torch.float32)\n",
    "    quantiles = [0.5, 0.2, 0.8]\n",
    "    if provider == 'torch':\n",
    "        ms, min_ms, max_ms = triton.testing.do_bench(lambda: t_gelu_fwd_jit(x), quantiles=quantiles)\n",
    "    if provider == 'triton':\n",
    "        ms, min_ms, max_ms = triton.testing.do_bench(lambda: t_gelu_fwd_t(x), quantiles=quantiles)\n",
    "    if provider == 'naive':\n",
    "        ms, min_ms, max_ms = triton.testing.do_bench(lambda: t_gelu_fwd(x), quantiles=quantiles)\n",
    "    gbps = lambda ms: 3 * x.numel() * x.element_size() * 1e-9 / (ms * 1e-3)\n",
    "    return gbps(ms), gbps(max_ms), gbps(min_ms)\n",
    "benchmark.run(print_data=True, show_plots=True)"
   ]
  },
  {
   "cell_type": "code",
   "execution_count": 23,
   "id": "8cc5a640",
   "metadata": {},
   "outputs": [
    {
     "data": {
      "text/plain": [
       "3145728"
      ]
     },
     "execution_count": 23,
     "metadata": {},
     "output_type": "execute_result"
    }
   ],
   "source": [
    "aa.numel()"
   ]
  },
  {
   "cell_type": "code",
   "execution_count": null,
   "id": "66d90ebe",
   "metadata": {},
   "outputs": [],
   "source": []
  }
 ],
 "metadata": {
  "kernelspec": {
   "display_name": "Python 3 (ipykernel)",
   "language": "python",
   "name": "python3"
  },
  "language_info": {
   "codemirror_mode": {
    "name": "ipython",
    "version": 3
   },
   "file_extension": ".py",
   "mimetype": "text/x-python",
   "name": "python",
   "nbconvert_exporter": "python",
   "pygments_lexer": "ipython3",
   "version": "3.10.12"
  }
 },
 "nbformat": 4,
 "nbformat_minor": 5
}
