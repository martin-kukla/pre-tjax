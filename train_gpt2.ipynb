{
 "cells": [
  {
   "cell_type": "code",
   "execution_count": 1,
   "id": "3275a27c",
   "metadata": {},
   "outputs": [
    {
     "name": "stdout",
     "output_type": "stream",
     "text": [
      "env: XLA_PYTHON_CLIENT_MEM_FRACTION=0.95\n"
     ]
    },
    {
     "data": {
      "text/plain": [
       "[cuda(id=0)]"
      ]
     },
     "execution_count": 1,
     "metadata": {},
     "output_type": "execute_result"
    }
   ],
   "source": [
    "### JAX\n",
    "\n",
    "# UPDATE/TODO XXX: We can now move to jax24.04-py3 (https://docs.nvidia.com/deeplearning/frameworks/jax-release-notes/rel-24-04.html)\n",
    "# TODO: this is slightly faster even with the warning -> invewstigate (current jax version is 0.4.26, where the image has 0.4.17)\n",
    "#! pip install -U \"jax[cuda12_pip]\" -f https://storage.googleapis.com/jax-releases/jax_cuda_releases.html\n",
    "#2024-05-02 08:16:04.763248: W external/xla/xla/service/gpu/nvptx_compiler.cc:718] \n",
    "#The NVIDIA driver's CUDA version is 12.2 which is older than the ptxas CUDA version (12.4.131). \n",
    "#Because the driver is older than the ptxas version, XLA is disabling parallel compilation, which may slow down compilation. \n",
    "#You should update your NVIDIA driver or use the NVIDIA-provided CUDA forward compatibility packages.\n",
    "\n",
    "# TODO: It looks like I am suffering from fragmentation on GPU, thus enabling prelocation\n",
    "# Disable JAX memory preallocation\n",
    "#import os\n",
    "#os.environ[\"XLA_PYTHON_CLIENT_PREALLOCATE\"]=\"false\"\n",
    "#os.environ[\"XLA_PYTHON_CLIENT_MEM_FRACTION\"]=\".90\"\n",
    "#%env XLA_PYTHON_CLIENT_PREALLOCATE=false\n",
    "%env XLA_PYTHON_CLIENT_MEM_FRACTION=0.95\n",
    "\n",
    "#!LD_LIBRARY_PATH=/usr/local/cuda/compat:$LD_LIBRARY_PATH\n",
    "import jax\n",
    "jax.devices()"
   ]
  },
  {
   "cell_type": "code",
   "execution_count": 2,
   "id": "aeacfa59",
   "metadata": {},
   "outputs": [
    {
     "name": "stdout",
     "output_type": "stream",
     "text": [
      "Loading FineWeb-Edu dataset\n"
     ]
    },
    {
     "data": {
      "application/vnd.jupyter.widget-view+json": {
       "model_id": "9e55e858819142219845eb601042d116",
       "version_major": 2,
       "version_minor": 0
      },
      "text/plain": [
       "Resolving data files:   0%|          | 0/1630 [00:00<?, ?it/s]"
      ]
     },
     "metadata": {},
     "output_type": "display_data"
    },
    {
     "name": "stdout",
     "output_type": "stream",
     "text": [
      "Loading tokenizer bpe_tokenizer_fineweb-edu_sample-10BT_100k_ds_merges_30k.pickle\n",
      "HotFix: Filter out items containing out-of-vocabulary words\n",
      "Tokenizing dataset\n",
      "DatasetDict({\n",
      "    train: Dataset({\n",
      "        features: ['x', 'y'],\n",
      "        num_rows: 471598\n",
      "    })\n",
      "    validation: Dataset({\n",
      "        features: ['x', 'y'],\n",
      "        num_rows: 9625\n",
      "    })\n",
      "})\n",
      "Loading HellaSwag dataset\n",
      "Tokenizing dataset\n",
      "Dataset({\n",
      "    features: ['x', 'y'],\n",
      "    num_rows: 10042\n",
      "})\n"
     ]
    }
   ],
   "source": [
    "### DATASETs\n",
    "import datasets\n",
    "from tokenized_dataset import load_tokenized_dataset_gpt2, load_tokenized_dataset_hellaswag, unpack_hellaswag_x, unpack_hellaswag_batched_x, concatenate_hellaswag_y_and_choice, get_batched_examples, get_batched_examples_packed \n",
    "ds, (tokenize, detokenize, tokenizer_vocab_size) = load_tokenized_dataset_gpt2(\"train[:5%]\") #:1% or :1000\n",
    "ds = ds.train_test_split(test_size=0.02, seed=42) # TODO: put seed in better place? does it mess up with resume_from_checkpoint logic?\n",
    "ds = datasets.DatasetDict({\n",
    "    'train': ds['train'],\n",
    "    'validation': ds['test'] #rename\n",
    "})\n",
    "print(ds)\n",
    "\n",
    "# Some stats on HellaSwag. Given the tokenicer: \n",
    "# Max len of concatenated y+longest choice is 149\n",
    "# Max sum of choices tokens lens is 263 (Important for flattening choices in x + seq_len param for data collactor)\n",
    "hellaswag_ds = load_tokenized_dataset_hellaswag(tokenize)\n",
    "print(hellaswag_ds)\n",
    "\n",
    "# Tests:\n",
    "# item = next(x for x in hellaswag_ds)\n",
    "# print(item)\n",
    "# print(detokenize((item['y'],)))\n",
    "# item_x = item['x']\n",
    "# choices, label = unpack_hellaswag_x(item['x'])\n",
    "# print(detokenize(choices)) # TODO XXX: one of chocies has \", while others have '. Is it anything serious?\n",
    "# print(label)"
   ]
  },
  {
   "cell_type": "code",
   "execution_count": 3,
   "id": "ea127b58",
   "metadata": {
    "editable": true,
    "slideshow": {
     "slide_type": ""
    },
    "tags": []
   },
   "outputs": [
    {
     "name": "stdout",
     "output_type": "stream",
     "text": [
      "Vocabulary size: 35_374\n",
      "Number of params: 112_614_958\n",
      "((True, False), (True,), (True, False, True, True, True, False, True, False, True, False), (True, False, True, True, True, False, True, False, True, False), (True, False, True, True, True, False, True, False, True, False), (True, False, True, True, True, False, True, False, True, False), (True, False, True, True, True, False, True, False, True, False), (True, False, True, True, True, False, True, False, True, False), (True, False, True, True, True, False, True, False, True, False), (True, False, True, True, True, False, True, False, True, False), (True, False, True, True, True, False, True, False, True, False), (True, False, True, True, True, False, True, False, True, False), (True, False, True, True, True, False, True, False, True, False), (True, False, True, True, True, False, True, False, True, False), (True, False))\n"
     ]
    }
   ],
   "source": [
    "### Model\n",
    "from model import *\n",
    "import jax.numpy as jnp\n",
    "from jax import grad, jit\n",
    "from jax import random\n",
    "\n",
    "LAYERS = 12\n",
    "model_vocab_size = tokenizer_vocab_size + 3 # add padding token (0) + start of sequence token + end of sequence token \n",
    "START_TOK = tokenizer_vocab_size + 1\n",
    "END_TOK = tokenizer_vocab_size + 2 # TODO: in default LLM convention, it should be 1. Also, it could be part of tokenizer_vocab_size\n",
    "EMB_DIM=768\n",
    "FFN_DIM=3072\n",
    "NUM_HEADS = 12\n",
    "seq_len= 512 # TODO XXX: 1024 is orginal paper\n",
    "params = init_transformer_gpt2(model_vocab_size, EMB_DIM, LAYERS, NUM_HEADS, FFN_DIM, seq_len, random.PRNGKey(0))\n",
    "\n",
    "print(f'Vocabulary size: {model_vocab_size:_}')\n",
    "num_params = sum([jnp.size(p_leaf) for p_leaf in jax.tree_util.tree_leaves(params)])\n",
    "print(f'Number of params: {num_params:_}')\n",
    "\n",
    "### Loss + Grads + Optimizers\n",
    "from loss_and_optimizer import loss_train, loss_eval, log_probs, grad_loss, predict, acc_grad_loss, init_adam_w, adam_w_in_place\n",
    "\n",
    "# Figure out non bias/gain params, as we only want to apply weight decay to those in AdamW\n",
    "# Only 1D weights, which are initialized to 0s are bias/gain params (including bias of LayerNorm)\n",
    "weight_decay_mask = tuple([ tuple([not (item.ndim==1 and all(item==0)) for item in grp]) for grp in params])\n",
    "print(weight_decay_mask)"
   ]
  },
  {
   "cell_type": "code",
   "execution_count": 4,
   "id": "e1539026",
   "metadata": {},
   "outputs": [
    {
     "name": "stderr",
     "output_type": "stream",
     "text": [
      "\u001b[34m\u001b[1mwandb\u001b[0m: Using wandb-core as the SDK backend.  Please refer to https://wandb.me/wandb-core for more information.\n",
      "2024-11-19 10:14:17.651565: E external/local_xla/xla/stream_executor/cuda/cuda_fft.cc:477] Unable to register cuFFT factory: Attempting to register factory for plugin cuFFT when one has already been registered\n",
      "WARNING: All log messages before absl::InitializeLog() is called are written to STDERR\n",
      "E0000 00:00:1732011257.670329   54907 cuda_dnn.cc:8310] Unable to register cuDNN factory: Attempting to register factory for plugin cuDNN when one has already been registered\n",
      "E0000 00:00:1732011257.676116   54907 cuda_blas.cc:1418] Unable to register cuBLAS factory: Attempting to register factory for plugin cuBLAS when one has already been registered\n",
      "\u001b[34m\u001b[1mwandb\u001b[0m: Currently logged in as: \u001b[33mmkukla\u001b[0m. Use \u001b[1m`wandb login --relogin`\u001b[0m to force relogin\n"
     ]
    },
    {
     "data": {
      "text/html": [
       "Tracking run with wandb version 0.18.6"
      ],
      "text/plain": [
       "<IPython.core.display.HTML object>"
      ]
     },
     "metadata": {},
     "output_type": "display_data"
    },
    {
     "data": {
      "text/html": [
       "Run data is saved locally in <code>/efs/notebooks/mkukla/pre-tjax/wandb/run-20241119_101420-527b74ik</code>"
      ],
      "text/plain": [
       "<IPython.core.display.HTML object>"
      ]
     },
     "metadata": {},
     "output_type": "display_data"
    },
    {
     "data": {
      "text/html": [
       "Syncing run <strong><a href='https://wandb.ai/mkukla/t/runs/527b74ik' target=\"_blank\">hardy-resonance-122</a></strong> to <a href='https://wandb.ai/mkukla/t' target=\"_blank\">Weights & Biases</a> (<a href='https://wandb.me/developer-guide' target=\"_blank\">docs</a>)<br/>"
      ],
      "text/plain": [
       "<IPython.core.display.HTML object>"
      ]
     },
     "metadata": {},
     "output_type": "display_data"
    },
    {
     "data": {
      "text/html": [
       " View project at <a href='https://wandb.ai/mkukla/t' target=\"_blank\">https://wandb.ai/mkukla/t</a>"
      ],
      "text/plain": [
       "<IPython.core.display.HTML object>"
      ]
     },
     "metadata": {},
     "output_type": "display_data"
    },
    {
     "data": {
      "text/html": [
       " View run at <a href='https://wandb.ai/mkukla/t/runs/527b74ik' target=\"_blank\">https://wandb.ai/mkukla/t/runs/527b74ik</a>"
      ],
      "text/plain": [
       "<IPython.core.display.HTML object>"
      ]
     },
     "metadata": {},
     "output_type": "display_data"
    }
   ],
   "source": [
    "### Infra utils\n",
    "def print_mem_stats():\n",
    "    mem_stats = jax.devices()[0].memory_stats()\n",
    "    conv = lambda k: mem_stats[k] / pow(1000,3)\n",
    "    print(f'GB in use: {conv(\"bytes_in_use\")}. GB limit: {conv(\"bytes_limit\")}')\n",
    "\n",
    "import wandb\n",
    "\n",
    "# start a new wandb run to track this script\n",
    "if True:\n",
    "    wandb.init(\n",
    "        # set the wandb project where this run will be logged\n",
    "        project=\"t\",\n",
    "    \n",
    "        # track hyperparameters and run metadata\n",
    "        #config={\n",
    "        #\"learning_rate\": 0.02,\n",
    "        #\"architecture\": \"CNN\",\n",
    "        #\"dataset\": \"CIFAR-100\",\n",
    "        #\"epochs\": 10,\n",
    "        #}\n",
    "        sync_tensorboard=True\n",
    "    )"
   ]
  },
  {
   "cell_type": "code",
   "execution_count": 5,
   "id": "2652d1da-e56b-46a1-b165-b6c2f3a7d1cb",
   "metadata": {
    "editable": true,
    "scrolled": true,
    "slideshow": {
     "slide_type": ""
    },
    "tags": []
   },
   "outputs": [
    {
     "name": "stderr",
     "output_type": "stream",
     "text": [
      "\u001b[34m\u001b[1mwandb\u001b[0m: \u001b[33mWARNING\u001b[0m Found log directory outside of given root_logdir, dropping given root_logdir for event file in /lego/storage/output/runs/Nov19_10-14-21\n"
     ]
    },
    {
     "name": "stdout",
     "output_type": "stream",
     "text": [
      "Number of params: 112_614_958\n"
     ]
    },
    {
     "name": "stderr",
     "output_type": "stream",
     "text": [
      "  0%|          | 69/160000 [00:44<28:26:33,  1.56it/s]\n"
     ]
    },
    {
     "ename": "KeyboardInterrupt",
     "evalue": "",
     "output_type": "error",
     "traceback": [
      "\u001b[0;31m---------------------------------------------------------------------------\u001b[0m",
      "\u001b[0;31mKeyboardInterrupt\u001b[0m                         Traceback (most recent call last)",
      "Cell \u001b[0;32mIn[5], line 66\u001b[0m\n\u001b[1;32m     63\u001b[0m \u001b[38;5;66;03m# Training step\u001b[39;00m\n\u001b[1;32m     64\u001b[0m \u001b[38;5;66;03m# TODO: introduce update func, which does grad_loss and adam, and then call/jit that function instead of calling/jitting two separate ones\u001b[39;00m\n\u001b[1;32m     65\u001b[0m key_training, key_iter \u001b[38;5;241m=\u001b[39m random\u001b[38;5;241m.\u001b[39msplit(key_training, \u001b[38;5;241m2\u001b[39m)\n\u001b[0;32m---> 66\u001b[0m grads, (loss_val, acc, _) \u001b[38;5;241m=\u001b[39m \u001b[43macc_grad_loss\u001b[49m\u001b[43m(\u001b[49m\u001b[43mgrads\u001b[49m\u001b[43m,\u001b[49m\u001b[43m \u001b[49m\u001b[43mparams\u001b[49m\u001b[43m,\u001b[49m\u001b[43m \u001b[49m\u001b[43mjnp\u001b[49m\u001b[38;5;241;43m.\u001b[39;49m\u001b[43marray\u001b[49m\u001b[43m(\u001b[49m\u001b[43my\u001b[49m\u001b[43m)\u001b[49m\u001b[43m,\u001b[49m\u001b[43m \u001b[49m\u001b[43mjnp\u001b[49m\u001b[38;5;241;43m.\u001b[39;49m\u001b[43marray\u001b[49m\u001b[43m(\u001b[49m\u001b[43my_mask\u001b[49m\u001b[43m)\u001b[49m\u001b[43m,\u001b[49m\u001b[43m \u001b[49m\u001b[43mjnp\u001b[49m\u001b[38;5;241;43m.\u001b[39;49m\u001b[43marray\u001b[49m\u001b[43m(\u001b[49m\u001b[43my_indices\u001b[49m\u001b[43m)\u001b[49m\u001b[43m,\u001b[49m\u001b[43m \u001b[49m\u001b[43mkey_iter\u001b[49m\u001b[43m)\u001b[49m\n\u001b[1;32m     67\u001b[0m \u001b[38;5;66;03m#grads, (loss_val, acc) = grad_loss(params, jnp.array(x), jnp.array(y), key_iter)\u001b[39;00m\n\u001b[1;32m     68\u001b[0m \n\u001b[1;32m     69\u001b[0m \u001b[38;5;66;03m# LR Scheduler\u001b[39;00m\n\u001b[1;32m     70\u001b[0m \u001b[38;5;66;03m#lr = max_lr # for SGD\u001b[39;00m\n\u001b[1;32m     72\u001b[0m i_multidevice \u001b[38;5;241m=\u001b[39m i \u001b[38;5;241m/\u001b[39m\u001b[38;5;241m/\u001b[39m gradient_accumulations_steps\n",
      "\u001b[0;31mKeyboardInterrupt\u001b[0m: "
     ]
    }
   ],
   "source": [
    "## Training loop\n",
    "import datetime\n",
    "from tqdm import tqdm\n",
    "from torch.utils.tensorboard import SummaryWriter\n",
    "import itertools\n",
    "import pickle\n",
    "import evaluate\n",
    "import numpy as np # should we get rid of it?\n",
    "import math\n",
    "\n",
    "# Infra training params\n",
    "run_name = datetime.datetime.now().strftime(\"%h%d_%H-%M-%S\")\n",
    "log_every_steps_multidevice = 10\n",
    "eval_every_steps_multidevice = 500\n",
    "eval_n_examples = 4\n",
    "writer = SummaryWriter(f'/lego/storage/output/runs/{run_name}')\n",
    "#checkpoint_every_steps = None #500 * 8 machines\n",
    "checkpoint_every_steps = 4000 #20000 # TODO: move to use _multidevice too\n",
    "resume_from_checkpoint = None\n",
    "#resume_from_checkpoint = 'runs/Jun07_10-12-10/checkpoint_4000.pkl' # TODO: Confirm runs from checkpoints are still fully reproducible\n",
    "\n",
    "\n",
    "# ML training params\n",
    "key_training = random.PRNGKey(0) \n",
    "batch_size= 16 \n",
    "gradient_accumulations_steps = 16 # TODO XXX: This means effective batch_size=256 instead of 512 used in the paper\n",
    "num_steps_multidevice = 10000 #100000 # TODO XXX: think what it should be for GPT2\n",
    "max_lr = 0.00025\n",
    "warmup_steps_multidevice= 2000\n",
    "betas = (0.9, 0.98) \n",
    "epsilon = 10e-9\n",
    "grads, moments = init_adam_w(params)\n",
    "\n",
    "# TODO XXX: remove below one\n",
    "_, _, _, y_eval_mask, _, _, y_eval_indices  = next(get_batched_examples(ds, eval_n_examples, seq_len, START_TOK, END_TOK, \"validation\")) \n",
    "    \n",
    "i = 0 \n",
    "ds_train_rows_read = 0\n",
    "if resume_from_checkpoint is not None:\n",
    "    with open(resume_from_checkpoint,'rb') as f:\n",
    "        i, ds_train_rows_read, params, moments, key_training = pickle.load(f)   \n",
    "        print(f'Resuming training from the checkpoint: i {i} ds_train_rows_read {ds_train_rows_read}')\n",
    "\n",
    "num_params = sum([jnp.size(p_leaf) for p_leaf in jax.tree_util.tree_leaves(params)])\n",
    "print(f'Number of params: {num_params:_}')\n",
    "\n",
    "num_steps = num_steps_multidevice * gradient_accumulations_steps\n",
    "while True:\n",
    "    #for _, batch in tqdm(enumerate(itertools.islice(get_batched_examples(ds, batch_size, seq_len, START_TOK, END_TOK, skip_n_rows = ds_train_rows_read), num_steps)), initial=i, total=num_steps, smoothing=0):\n",
    "    for _, batch in tqdm(enumerate(itertools.islice(get_batched_examples_packed(ds, batch_size, seq_len, START_TOK, END_TOK, pack_frac=0.75, skip_n_rows = ds_train_rows_read), num_steps)), initial=i, total=num_steps, smoothing=0):\n",
    "        _, y, _, y_mask, _, _, y_indices = batch\n",
    "        # Training step\n",
    "        # TODO: introduce update func, which does grad_loss and adam, and then call/jit that function instead of calling/jitting two separate ones\n",
    "        key_training, key_iter = random.split(key_training, 2)\n",
    "        grads, (loss_val, acc, _) = acc_grad_loss(grads, params, jnp.array(y), jnp.array(y_mask), jnp.array(y_indices), key_iter)\n",
    "        #grads, (loss_val, acc) = grad_loss(params, jnp.array(x), jnp.array(y), key_iter)\n",
    "\n",
    "        # LR Scheduler\n",
    "        #lr = max_lr # for SGD\n",
    "\n",
    "        i_multidevice = i // gradient_accumulations_steps\n",
    "        is_i_device_zero = i % gradient_accumulations_steps == 0\n",
    "\n",
    "        # AIAYN:\n",
    "        #lr = pow(EMB_DIM, -0.5) * min(pow((i_multidevice+1), -0.5), (i_multidevice+1) * pow(warmup_steps, -1.5))\n",
    "\n",
    "        # GPT1:\n",
    "        if i_multidevice < warmup_steps_multidevice:\n",
    "            lr = (i_multidevice+1)/warmup_steps_multidevice * max_lr\n",
    "        else:\n",
    "            t_step = i_multidevice - warmup_steps_multidevice\n",
    "            t_max = num_steps_multidevice - warmup_steps_multidevice\n",
    "            lr = max_lr * (1 + math.cos(math.pi * t_step/t_max))/2\n",
    "\n",
    "        #params = sgd(params, grads, lr)\n",
    "        if i > 0 and i % gradient_accumulations_steps == 0:\n",
    "            for grp_i in range(len(grads)):\n",
    "                for p_i in range(len(grads[grp_i])):\n",
    "                    grads[grp_i][p_i] =  grads[grp_i][p_i].at[:].divide(gradient_accumulations_steps)\n",
    "            \n",
    "            #params, moments = adam_w(params, grads, lr, betas, epsilon, moments, i)\n",
    "            params, moments = adam_w_in_place(params, grads, lr, betas, epsilon, moments, i, weight_decay=0.01, weight_decay_mask=weight_decay_mask)\n",
    "    \n",
    "        # Logging:\n",
    "        if i_multidevice%log_every_steps_multidevice==0 and is_i_device_zero:\n",
    "            loss_val = loss_val.item()\n",
    "            acc = acc.item()\n",
    "            \n",
    "            #@jit # TODO: I can't jit that one\n",
    "            def g_l2norm_squared(g_list):\n",
    "                return pow(jnp.linalg.norm(g_list),2)\n",
    "            def l2norm(grads): # computing l2norm without any memory copies\n",
    "                return math.sqrt(sum([ sum([g_l2norm_squared(g) for g in g_items]) for g_items in grads]))\n",
    "            def grps_l2norms(grads):\n",
    "                return [ math.sqrt(sum([g_l2norm_squared(g) for g in g_items])) for g_items in grads]\n",
    "            grad_norm = l2norm(grads)\n",
    "            grps_grad_norms = grps_l2norms(grads)\n",
    "\n",
    "            \n",
    "            #print(f'iter #{i} loss {loss_val} acc {acc} lr {lr} grad_norm {grad_norm}')\n",
    "            #print_mem_stats() # TODO: monitor it in tensorboard?\n",
    "            writer.add_scalar('train/loss', loss_val, i_multidevice)\n",
    "            writer.add_scalar('train/acc', acc, i_multidevice)\n",
    "            writer.add_scalar('train/lr', lr, i_multidevice)\n",
    "            writer.add_scalar('train/grad_norm', grad_norm, i_multidevice)\n",
    "            for grp_i, grp_grad_norm in enumerate(grps_grad_norms):\n",
    "                writer.add_scalar(f'train_details/grad_norm_grp_{grp_i}', grp_grad_norm, i_multidevice)\n",
    "\n",
    "            # TODO: some metrics computed on x, other on y. Make it consistent\n",
    "            #pad_tokens_prop = sum([y_row.count(0) for y_row in y]) / sum([len(y_row) for y_row in y])\n",
    "            pad_tokens_prop = np.count_nonzero(y==0) / y.size\n",
    "            writer.add_scalar('train_data/pad_tokens_prop', pad_tokens_prop, i_multidevice)\n",
    "            writer.add_scalar('train_data/batch_size', len(y), i_multidevice)\n",
    "            writer.add_scalar('train_data/batch_seq_len', len(y[0]), i_multidevice)\n",
    "            writer.add_scalar('train_data/batch_total_tokens', len(y) * len(y[0]), i_multidevice)\n",
    "\n",
    "        # Zeroed accumulated grads: we have to do it after computing grad norms\n",
    "        if i > 0 and i % gradient_accumulations_steps == 0: \n",
    "            for grp_i in range(len(grads)):\n",
    "                for p_i in range(len(grads[grp_i])):\n",
    "                    grads[grp_i][p_i] =  grads[grp_i][p_i].at[:].set(0)\n",
    "            \n",
    "        # Evaluation\n",
    "        if i_multidevice>0 and i_multidevice%eval_every_steps_multidevice==0 and is_i_device_zero:\n",
    "            val_losses = []\n",
    "            val_accs = []\n",
    "            val_toks_props = []\n",
    "            for eval_step, batch in enumerate(get_batched_examples(ds, batch_size, seq_len, START_TOK, END_TOK, split=\"validation\")): \n",
    "                _, y, _, y_mask, _, _, y_indices = batch\n",
    "                _, (loss_val, acc, toks_prop) = loss_eval(params, np.array(y), jnp.array(y_mask), jnp.array(y_indices))\n",
    "                val_losses.append(loss_val)\n",
    "                val_accs.append(acc)\n",
    "                val_toks_props.append(toks_prop)\n",
    "            writer.add_scalar('eval/loss', jnp.average(jnp.hstack(val_losses), weights = jnp.hstack(val_toks_props)).item(), i_multidevice)\n",
    "            writer.add_scalar('eval/acc', jnp.average(jnp.hstack(val_accs), weights = jnp.hstack(val_toks_props)).item(), i_multidevice)\n",
    "            \n",
    "            # Few predictions TODO XXX: vary temperature -> diff samples\n",
    "            y_sample = predict(params, jnp.array(y_eval_mask), jnp.array(y_eval_indices), seq_len, START_TOK, END_TOK)\n",
    "            y_sample = tuple([item.tolist() for item in y_sample])\n",
    "            def detokenize_y_in(y):\n",
    "                y_out = y[:, 1:]\n",
    "                y_out[y_out == END_TOK] = 0\n",
    "                return detokenize(y_out)\n",
    "            for detokenized_y_sample in detokenize(y_sample):\n",
    "                print(f'PREDS: {detokenized_y_sample}\\n')\n",
    "\n",
    "            # Compute HellaSwag score\n",
    "            print(f'Compute HellaSwag score')\n",
    "            hellaswag_accs = [] # TODO XXX: enable seq_len be different for x vs y; \n",
    "            num_hellaswag_batches = 100 #TODO XXX:; run for the whole dataset\n",
    "            for _, batch in tqdm(enumerate(itertools.islice(get_batched_examples(hellaswag_ds, batch_size, seq_len, START_TOK, END_TOK, split=None), num_hellaswag_batches))):\n",
    "                choices_vals = []\n",
    "                x, y, _, y_mask, _, _, y_indices = batch\n",
    "                choices, labels = unpack_hellaswag_batched_x(x) \n",
    "                \n",
    "                for choice in choices:\n",
    "                    y, y_mask = concatenate_hellaswag_y_and_choice(y, choice, END_TOK) # no need to return new y_indices for now.\n",
    "                    choice_log_probs = log_probs(params, jnp.array(y), jnp.array(y_mask), jnp.array(y_indices))\n",
    "                    choices_vals.append(choice_log_probs)\n",
    "                choices_vals = np.array(choices_vals).transpose() # we want choice per column\n",
    "                hellaswag_accs.extend(np.argmax(choices_vals, axis=1)==labels)\n",
    "                   \n",
    "            hellaswag_acc = sum(hellaswag_accs)/len(hellaswag_accs)\n",
    "            print(f'HellaSwag score:', hellaswag_acc)\n",
    "            writer.add_scalar('eval/hellaswag', hellaswag_acc, i_multidevice)\n",
    "                \n",
    "        i = i + 1\n",
    "        ds_train_rows_read = ds_train_rows_read + len(y)\n",
    "\n",
    "        # Checkpointing (i, ds_train_rows_read, params, moments).\n",
    "        # TODO XXX: I haven't used it for a while, and likely it's not working.. probably we can delete \n",
    "        if checkpoint_every_steps is not None and (i>0 and i%checkpoint_every_steps==0):\n",
    "            import os\n",
    "            training_state = (i, ds_train_rows_read, params, moments, key_training)\n",
    "            filename = f'runs/{run_name}/checkpoint_{i}.pkl'\n",
    "            os.makedirs(os.path.dirname(filename), exist_ok=True)\n",
    "            with open(filename, 'wb') as f:\n",
    "                pickle.dump(training_state, f)\n",
    "                \n",
    "    ds_train_rows_read=0 # After each epoch, reset dataset pointer\n",
    "\n",
    "writer.close()"
   ]
  },
  {
   "cell_type": "code",
   "execution_count": null,
   "id": "833420cd-8b11-4bab-b8e7-a64e4601a5f3",
   "metadata": {},
   "outputs": [],
   "source": [
    "# FOR TESTING\n",
    "\n",
    "# Compute HellaSwag score\n",
    "import numpy as np\n",
    "\n",
    "hellaswag_accs = []\n",
    "from tqdm import tqdm\n",
    "import itertools\n",
    "for _, batch in tqdm(enumerate(itertools.islice(get_batched_examples(hellaswag_ds, 2, seq_len, START_TOK, END_TOK, split=None), 4))): \n",
    "#for _, batch in tqdm(enumerate(get_batched_examples(hellaswag_ds, 1, 400, START_TOK, END_TOK, split=None))):\n",
    "    choices_vals = []\n",
    "    x, y, _, y_mask, _, _, y_indices = batch\n",
    "    choices, labels = unpack_hellaswag_batched_x(x)\n",
    "    \n",
    "    for choice in choices:\n",
    "        y, y_mask = concatenate_hellaswag_y_and_choice(y, choice, END_TOK) # no need to return new y_indices for now.\n",
    "        choice_log_probs = log_probs(params, jnp.array(y), jnp.array(y_mask), jnp.array(y_indices))\n",
    "        choices_vals.append(choice_log_probs)\n",
    "    choices_vals = np.array(choices_vals).transpose()\n",
    "    hellaswag_accs.extend(np.argmax(choices_vals, axis=1)==labels)\n",
    "\n",
    "#print(\"hellaswag_accs\", hellaswag_accs)\n",
    "hellaswag_acc = sum(hellaswag_accs)/len(hellaswag_accs)\n",
    "print(hellaswag_acc)\n"
   ]
  },
  {
   "cell_type": "code",
   "execution_count": null,
   "id": "42440b31",
   "metadata": {},
   "outputs": [],
   "source": [
    "### Final test predictions + BLEU computation\n",
    "x_tokens_per_batch = 15000 #For variable batch len, we don't use it as we can fit less data (paper does 25k)\n",
    "\n",
    "print(f'Few predictions for validation dataset')\n",
    "y_sample = predict(params, jnp.array(x_eval), seq_len, START_TOK, END_TOK)\n",
    "y_sample = tuple([item.tolist() for item in y_sample])\n",
    "for detekonized_x_eval, detokenized_y_eval, detokenized_y_sample in zip(detokenize(x_eval), detokenize(y_eval), detokenize(y_sample)):\n",
    "    print(f'X:{detekonized_x_eval}\\tY: {detokenized_y_eval} \\tPREDS: {detokenized_y_sample}\\n')\n",
    "    references.append(detokenized_y_eval)\n",
    "    predictions.append(detokenized_y_sample)\n",
    "\n",
    "print(f'Computing BLEU for validation dataset')\n",
    "import evaluate\n",
    "references = [] \n",
    "predictions = []\n",
    "for _, (x, y) in tqdm(enumerate(get_batched_examples_per_length(ds, x_tokens_per_batch, split=\"validation\"))):\n",
    "    y_sample = predict(params, jnp.array(x), seq_len, START_TOK, END_TOK)\n",
    "    y_sample = tuple([item.tolist() for item in y_sample])\n",
    "    for detekonized_x_eval, detokenized_y_eval, detokenized_y_sample in zip(detokenize(x), detokenize(y), detokenize(y_sample)):\n",
    "        references.append(detokenized_y_eval)\n",
    "        predictions.append(detokenized_y_sample)\n",
    "\n",
    "bleu = evaluate.load(\"bleu\")\n",
    "results = bleu.compute(predictions=predictions, references=references)\n",
    "print(results)"
   ]
  }
 ],
 "metadata": {
  "kernelspec": {
   "display_name": "Python 3 (ipykernel)",
   "language": "python",
   "name": "python3"
  },
  "language_info": {
   "codemirror_mode": {
    "name": "ipython",
    "version": 3
   },
   "file_extension": ".py",
   "mimetype": "text/x-python",
   "name": "python",
   "nbconvert_exporter": "python",
   "pygments_lexer": "ipython3",
   "version": "3.10.12"
  }
 },
 "nbformat": 4,
 "nbformat_minor": 5
}
