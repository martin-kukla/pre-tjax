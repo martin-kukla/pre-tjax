{
 "cells": [
  {
   "cell_type": "code",
   "execution_count": 3,
   "id": "e79aa66f-b4c8-4de0-ab38-cf73f96c22de",
   "metadata": {},
   "outputs": [
    {
     "name": "stdout",
     "output_type": "stream",
     "text": [
      "Loading dataset\n",
      "Loading tokenizer\n",
      "Tokenizing dataset\n",
      "tokenized [[3588, 3691, 12118, 3613, 3586, 12470, 0, 0, 0, 0, 0, 0, 0, 0, 0, 0, 0, 0, 0, 0, 0, 0, 0, 0, 0, 0, 0, 0, 0, 0, 0, 0, 0, 0, 0, 0, 0, 0, 0, 0, 0, 0, 0, 0, 0, 0, 0, 0, 0, 0], [5476, 10343, 3606, 6056, 11623, 4247, 9, 3696, 0, 0, 0, 0, 0, 0, 0, 0, 0, 0, 0, 0, 0, 0, 0, 0, 0, 0, 0, 0, 0, 0, 0, 0, 0, 0, 0, 0, 0, 0, 0, 0, 0, 0, 0, 0, 0, 0, 0, 0, 0, 0]] detokenized ['resumption of the session ', 'wiederaufnahme der sitzungsperiode ']\n"
     ]
    },
    {
     "name": "stderr",
     "output_type": "stream",
     "text": [
      "1it [00:00, 2741.38it/s]"
     ]
    },
    {
     "name": "stdout",
     "output_type": "stream",
     "text": [
      "x [[3588, 3691, 12118, 3613, 3586, 12470, 0, 0, 0, 0, 0, 0, 0, 0, 0, 0, 0, 0, 0, 0, 0, 0, 0, 0, 0, 0, 0, 0, 0, 0, 0, 0, 0, 0, 0, 0, 0, 0, 0, 0, 0, 0, 0, 0, 0, 0, 0, 0, 0, 0], [3667, 4531, 19, 3715, 3588, 5059, 3637, 3586, 12470, 3613, 3586, 3960, 4795, 3751, 7292, 5434, 3599, 4481, 4567, 9205, 10183, 4663, 7777, 3614, 3667, 4081, 4239, 6205, 6665, 3617, 6455, 3829, 3612, 9829, 4161, 5567, 3594, 3586, 6096, 3686, 3829, 5724, 7708, 3612, 11642, 6808, 4110, 7967, 3911, 0], [3585, 10333, 3578, 3626, 3829, 3850, 3827, 3650, 3645, 3586, 4489, 11949, 34, 4215, 7723, 4172, 3807, 3780, 17, 4435, 3853, 8117, 3617, 5324, 4351, 3788, 5221, 3586, 4641, 3594, 3612, 5239, 3613, 4924, 6467, 7843, 3612, 8546, 3613, 7083, 10171, 11358, 3686, 12336, 4424, 4489, 3751, 4523, 3582, 0]]\n",
      "y [[5476, 10343, 3606, 6056, 11623, 4247, 9, 3696, 0, 0, 0, 0, 0, 0, 0, 0, 0, 0, 0, 0, 0, 0, 0, 0, 0, 0, 0, 0, 0, 0, 0, 0, 0, 0, 0, 0, 0, 0, 0, 0, 0, 0, 0, 0, 0, 0, 0, 0, 0, 0], [3638, 5706, 3567, 3610, 3979, 3917, 3603, 3670, 3578, 3787, 5759, 3582, 9621, 3877, 4951, 3573, 5015, 6056, 11623, 4247, 9, 3696, 3730, 4157, 6132, 3704, 5476, 3839, 12448, 10711, 4521, 11880, 8429, 6283, 6716, 4083, 10590, 7200, 12024, 3618, 8899, 4213, 3725, 10843, 3939, 4797, 4253, 4272, 0, 0], [3869, 3725, 4824, 5435, 6539, 4198, 3732, 3606, 3619, 5953, 3573, 7961, 35, 4215, 7723, 8, 9869, 3780, 3591, 4106, 3815, 6760, 13501, 5189, 3988, 6035, 12322, 4905, 4878, 10780, 3692, 5778, 3771, 3989, 5393, 10703, 3575, 3619, 9402, 0, 0, 0, 0, 0, 0, 0, 0, 0, 0, 0]]\n"
     ]
    },
    {
     "name": "stderr",
     "output_type": "stream",
     "text": [
      "\n"
     ]
    }
   ],
   "source": [
    "# Test LOAD DATASET + LOAD TOKENIZER \n",
    "from tokenized_dataset import load_tokenized_dataset, get_batched_examples\n",
    "import itertools\n",
    "from tqdm import tqdm\n",
    "\n",
    "ds, (tokenizer, detokenize, vocab_len) = load_tokenized_dataset()\n",
    "\n",
    "# Test dataset & (de)tokenize\n",
    "for item in itertools.islice(ds[\"train\"], 1):\n",
    "    x_and_y = [item[\"x\"], item[\"y\"]]\n",
    "    print(f'tokenized {x_and_y} detokenized {detokenize(x_and_y)}')\n",
    "\n",
    "# Test data collector\n",
    "for x, y in tqdm(itertools.islice(get_batched_examples(ds, 3), 1)):\n",
    "    print(f'x {x}')\n",
    "    print(f'y {y}')"
   ]
  },
  {
   "cell_type": "code",
   "execution_count": null,
   "id": "eded4c46-6209-4429-aa8a-841e5aedbbf6",
   "metadata": {},
   "outputs": [],
   "source": []
  }
 ],
 "metadata": {
  "kernelspec": {
   "display_name": "Python 3 (ipykernel)",
   "language": "python",
   "name": "python3"
  },
  "language_info": {
   "codemirror_mode": {
    "name": "ipython",
    "version": 3
   },
   "file_extension": ".py",
   "mimetype": "text/x-python",
   "name": "python",
   "nbconvert_exporter": "python",
   "pygments_lexer": "ipython3",
   "version": "3.10.12"
  }
 },
 "nbformat": 4,
 "nbformat_minor": 5
}
