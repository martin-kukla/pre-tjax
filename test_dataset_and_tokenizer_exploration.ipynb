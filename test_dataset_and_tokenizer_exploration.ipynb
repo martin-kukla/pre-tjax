{
 "cells": [
  {
   "cell_type": "code",
   "execution_count": 1,
   "id": "cb018b6f",
   "metadata": {},
   "outputs": [],
   "source": [
    "%%capture\n",
    "%run load_dataset_and_build_tokenizer.ipynb import get_batched_examples"
   ]
  },
  {
   "cell_type": "code",
   "execution_count": 33,
   "id": "66a1a758",
   "metadata": {},
   "outputs": [
    {
     "name": "stderr",
     "output_type": "stream",
     "text": [
      "100it [00:43,  2.27it/s]"
     ]
    },
    {
     "name": "stdout",
     "output_type": "stream",
     "text": [
      "totals: x 374707 y 379876\n",
      "avgs per batch: x 3747.07 y 3798.76\n",
      "avgs per datapoint: x 29.273984375 y 29.6778125\n"
     ]
    },
    {
     "name": "stderr",
     "output_type": "stream",
     "text": [
      "\n"
     ]
    }
   ],
   "source": [
    "# Take sample of data\n",
    "import numpy as np\n",
    "\n",
    "sample_batch_size=128\n",
    "sample_num_iters=100\n",
    "sample_n = sample_batch_size * sample_num_iters\n",
    "seq_len=50\n",
    "x_lens = []\n",
    "y_lens = []\n",
    "\n",
    "def count_toks(x):\n",
    "    return np.sum(np.array(x) != 0)\n",
    "for i, (x, y) in tqdm(enumerate(itertools.islice(get_batched_examples(sample_batch_size, seq_len), sample_num_iters))):\n",
    "    for x_row, y_row in zip(x, y):\n",
    "        x_lens.append(count_toks(x_row))\n",
    "        y_lens.append(count_toks(y_row))\n",
    "print(f'totals: x {sum(x_lens)} y {sum(y_lens)}')\n",
    "print(f'avgs per batch: x {sum(x_lens)/sample_num_iters} y {sum(y_lens)/sample_num_iters}')\n",
    "print(f'avgs per datapoint: x {sum(x_lens)/len(x_lens)} y {sum(y_lens)/len(y_lens)}')"
   ]
  },
  {
   "cell_type": "code",
   "execution_count": 32,
   "id": "b6431487",
   "metadata": {},
   "outputs": [
    {
     "name": "stdout",
     "output_type": "stream",
     "text": [
      "Smaller than 50 (out of 6400): x 5285 y 5200\n"
     ]
    }
   ],
   "source": [
    "print(f'Smaller than 50 (out of {len(x_lens)}): x {sum([x_len<50 for x_len in x_lens])} y {sum([y_len<50 for y_len in y_lens])}')"
   ]
  },
  {
   "cell_type": "code",
   "execution_count": 26,
   "id": "692d82dd",
   "metadata": {},
   "outputs": [
    {
     "data": {
      "image/png": "[encoded data removed]",
      "text/plain": [
       "<Figure size 640x480 with 1 Axes>"
      ]
     },
     "metadata": {},
     "output_type": "display_data"
    }
   ],
   "source": [
    "import matplotlib.pyplot as plt\n",
    "plt.hist(x_lens)\n",
    "plt.show() "
   ]
  },
  {
   "cell_type": "code",
   "execution_count": 2,
   "id": "eb8cadff",
   "metadata": {},
   "outputs": [
    {
     "name": "stderr",
     "output_type": "stream",
     "text": [
      "10it [00:00, 10.25it/s]\n"
     ]
    }
   ],
   "source": [
    "for i, (x, y) in tqdm(enumerate(itertools.islice(get_batched_examples(32, 50), 10))):\n",
    "    continue"
   ]
  },
  {
   "cell_type": "code",
   "execution_count": 3,
   "id": "cf847cc2",
   "metadata": {},
   "outputs": [
    {
     "name": "stderr",
     "output_type": "stream",
     "text": [
      "1it [00:01,  1.21s/it]\n"
     ]
    }
   ],
   "source": [
    "for i, (x, y) in tqdm(enumerate(itertools.islice(get_batched_examples(320, 50), 1))):\n",
    "    continue"
   ]
  },
  {
   "cell_type": "code",
   "execution_count": null,
   "id": "249cb750",
   "metadata": {},
   "outputs": [],
   "source": [
    "# Find max len helper\n",
    "from tokenized_dataset import load_tokenized_dataset, get_batched_examples, get_batched_examples_per_length, get_batched_examples_packed\n",
    "ds, (tokenizer, detokenize, tokenizer_vocab_size) = load_tokenized_dataset()\n",
    "ds = ds.shuffle(seed=42) # TODO XXX: put it in better place? does it mess up with resume_from_checkpoint logic?\n",
    "\n",
    "#train_lens_x = [len(item['x']) for item in ds[\"train\"]]\n",
    "#train_lens_y = [len(item['y']) for item in ds[\"train\"]]\n",
    "val_lens_x = [len(item['x']) for item in ds[\"validation\"]]\n",
    "val_lens_y = [len(item['y']) for item in ds[\"validation\"]]\n",
    "len([len_x for len_x in lens_x if len_x>94])\n"
   ]
  }
 ],
 "metadata": {
  "kernelspec": {
   "display_name": "Python 3 (ipykernel)",
   "language": "python",
   "name": "python3"
  },
  "language_info": {
   "codemirror_mode": {
    "name": "ipython",
    "version": 3
   },
   "file_extension": ".py",
   "mimetype": "text/x-python",
   "name": "python",
   "nbconvert_exporter": "python",
   "pygments_lexer": "ipython3",
   "version": "3.10.12"
  }
 },
 "nbformat": 4,
 "nbformat_minor": 5
}
